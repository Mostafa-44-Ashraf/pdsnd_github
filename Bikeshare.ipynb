{
 "cells": [
  {
   "cell_type": "markdown",
   "metadata": {},
   "source": [
    "#### Reading the datasets "
   ]
  },
  {
   "cell_type": "code",
   "execution_count": 1,
   "metadata": {},
   "outputs": [],
   "source": [
    "nyc= read.csv('new-york-city.csv')"
   ]
  },
  {
   "cell_type": "code",
   "execution_count": 2,
   "metadata": {},
   "outputs": [
    {
     "data": {
      "text/html": [
       "<table>\n",
       "<thead><tr><th scope=col>X</th><th scope=col>Start.Time</th><th scope=col>End.Time</th><th scope=col>Trip.Duration</th><th scope=col>Start.Station</th><th scope=col>End.Station</th><th scope=col>User.Type</th><th scope=col>Gender</th><th scope=col>Birth.Year</th></tr></thead>\n",
       "<tbody>\n",
       "\t<tr><td>5688089                                       </td><td>2017-06-11 14:55:05                           </td><td>2017-06-11 15:08:21                           </td><td> 795                                          </td><td>Suffolk St &amp; Stanton St                   </td><td>W Broadway &amp; Spring St                    </td><td>Subscriber                                    </td><td><span style=white-space:pre-wrap>Male  </span></td><td>1998                                          </td></tr>\n",
       "\t<tr><td>4096714                                                           </td><td>2017-05-11 15:30:11                                               </td><td>2017-05-11 15:41:43                                               </td><td> 692                                                              </td><td>Lexington Ave &amp; E 63 St                                       </td><td><span style=white-space:pre-wrap>1 Ave &amp; E 78 St       </span></td><td>Subscriber                                                        </td><td><span style=white-space:pre-wrap>Male  </span>                    </td><td>1981                                                              </td></tr>\n",
       "\t<tr><td>2173887                                                            </td><td>2017-03-29 13:26:26                                                </td><td>2017-03-29 13:48:31                                                </td><td>1325                                                               </td><td><span style=white-space:pre-wrap>1 Pl &amp; Clinton St      </span></td><td><span style=white-space:pre-wrap>Henry St &amp; Degraw St  </span> </td><td>Subscriber                                                         </td><td><span style=white-space:pre-wrap>Male  </span>                     </td><td>1987                                                               </td></tr>\n",
       "\t<tr><td>3945638                                                            </td><td>2017-05-08 19:47:18                                                </td><td>2017-05-08 19:59:01                                                </td><td> 703                                                               </td><td><span style=white-space:pre-wrap>Barrow St &amp; Hudson St  </span></td><td><span style=white-space:pre-wrap>W 20 St &amp; 8 Ave       </span> </td><td>Subscriber                                                         </td><td>Female                                                             </td><td>1986                                                               </td></tr>\n",
       "\t<tr><td>6208972                                                            </td><td>2017-06-21 07:49:16                                                </td><td>2017-06-21 07:54:46                                                </td><td> 329                                                               </td><td><span style=white-space:pre-wrap>1 Ave &amp; E 44 St        </span></td><td><span style=white-space:pre-wrap>E 53 St &amp; 3 Ave       </span> </td><td>Subscriber                                                         </td><td><span style=white-space:pre-wrap>Male  </span>                     </td><td>1992                                                               </td></tr>\n",
       "\t<tr><td>1285652                                                            </td><td>2017-02-22 18:55:24                                                </td><td>2017-02-22 19:12:03                                                </td><td> 998                                                               </td><td><span style=white-space:pre-wrap>State St &amp; Smith St    </span></td><td><span style=white-space:pre-wrap>Bond St &amp; Fulton St   </span> </td><td>Subscriber                                                         </td><td><span style=white-space:pre-wrap>Male  </span>                     </td><td>1986                                                               </td></tr>\n",
       "</tbody>\n",
       "</table>\n"
      ],
      "text/latex": [
       "\\begin{tabular}{r|lllllllll}\n",
       " X & Start.Time & End.Time & Trip.Duration & Start.Station & End.Station & User.Type & Gender & Birth.Year\\\\\n",
       "\\hline\n",
       "\t 5688089                   & 2017-06-11 14:55:05       & 2017-06-11 15:08:21       &  795                      & Suffolk St \\& Stanton St & W Broadway \\& Spring St  & Subscriber                & Male                      & 1998                     \\\\\n",
       "\t 4096714                   & 2017-05-11 15:30:11       & 2017-05-11 15:41:43       &  692                      & Lexington Ave \\& E 63 St & 1 Ave \\& E 78 St         & Subscriber                & Male                      & 1981                     \\\\\n",
       "\t 2173887                   & 2017-03-29 13:26:26       & 2017-03-29 13:48:31       & 1325                      & 1 Pl \\& Clinton St       & Henry St \\& Degraw St    & Subscriber                & Male                      & 1987                     \\\\\n",
       "\t 3945638                   & 2017-05-08 19:47:18       & 2017-05-08 19:59:01       &  703                      & Barrow St \\& Hudson St   & W 20 St \\& 8 Ave         & Subscriber                & Female                    & 1986                     \\\\\n",
       "\t 6208972                   & 2017-06-21 07:49:16       & 2017-06-21 07:54:46       &  329                      & 1 Ave \\& E 44 St         & E 53 St \\& 3 Ave         & Subscriber                & Male                      & 1992                     \\\\\n",
       "\t 1285652                   & 2017-02-22 18:55:24       & 2017-02-22 19:12:03       &  998                      & State St \\& Smith St     & Bond St \\& Fulton St     & Subscriber                & Male                      & 1986                     \\\\\n",
       "\\end{tabular}\n"
      ],
      "text/markdown": [
       "\n",
       "| X | Start.Time | End.Time | Trip.Duration | Start.Station | End.Station | User.Type | Gender | Birth.Year |\n",
       "|---|---|---|---|---|---|---|---|---|\n",
       "| 5688089                 | 2017-06-11 14:55:05     | 2017-06-11 15:08:21     |  795                    | Suffolk St & Stanton St | W Broadway & Spring St  | Subscriber              | Male                    | 1998                    |\n",
       "| 4096714                 | 2017-05-11 15:30:11     | 2017-05-11 15:41:43     |  692                    | Lexington Ave & E 63 St | 1 Ave & E 78 St         | Subscriber              | Male                    | 1981                    |\n",
       "| 2173887                 | 2017-03-29 13:26:26     | 2017-03-29 13:48:31     | 1325                    | 1 Pl & Clinton St       | Henry St & Degraw St    | Subscriber              | Male                    | 1987                    |\n",
       "| 3945638                 | 2017-05-08 19:47:18     | 2017-05-08 19:59:01     |  703                    | Barrow St & Hudson St   | W 20 St & 8 Ave         | Subscriber              | Female                  | 1986                    |\n",
       "| 6208972                 | 2017-06-21 07:49:16     | 2017-06-21 07:54:46     |  329                    | 1 Ave & E 44 St         | E 53 St & 3 Ave         | Subscriber              | Male                    | 1992                    |\n",
       "| 1285652                 | 2017-02-22 18:55:24     | 2017-02-22 19:12:03     |  998                    | State St & Smith St     | Bond St & Fulton St     | Subscriber              | Male                    | 1986                    |\n",
       "\n"
      ],
      "text/plain": [
       "  X       Start.Time          End.Time            Trip.Duration\n",
       "1 5688089 2017-06-11 14:55:05 2017-06-11 15:08:21  795         \n",
       "2 4096714 2017-05-11 15:30:11 2017-05-11 15:41:43  692         \n",
       "3 2173887 2017-03-29 13:26:26 2017-03-29 13:48:31 1325         \n",
       "4 3945638 2017-05-08 19:47:18 2017-05-08 19:59:01  703         \n",
       "5 6208972 2017-06-21 07:49:16 2017-06-21 07:54:46  329         \n",
       "6 1285652 2017-02-22 18:55:24 2017-02-22 19:12:03  998         \n",
       "  Start.Station           End.Station            User.Type  Gender Birth.Year\n",
       "1 Suffolk St & Stanton St W Broadway & Spring St Subscriber Male   1998      \n",
       "2 Lexington Ave & E 63 St 1 Ave & E 78 St        Subscriber Male   1981      \n",
       "3 1 Pl & Clinton St       Henry St & Degraw St   Subscriber Male   1987      \n",
       "4 Barrow St & Hudson St   W 20 St & 8 Ave        Subscriber Female 1986      \n",
       "5 1 Ave & E 44 St         E 53 St & 3 Ave        Subscriber Male   1992      \n",
       "6 State St & Smith St     Bond St & Fulton St    Subscriber Male   1986      "
      ]
     },
     "metadata": {},
     "output_type": "display_data"
    }
   ],
   "source": [
    "head(nyc)"
   ]
  },
  {
   "cell_type": "code",
   "execution_count": 3,
   "metadata": {},
   "outputs": [],
   "source": [
    "chicago= read.csv('chicago.csv')"
   ]
  },
  {
   "cell_type": "code",
   "execution_count": 4,
   "metadata": {},
   "outputs": [
    {
     "data": {
      "text/html": [
       "<table>\n",
       "<thead><tr><th scope=col>X</th><th scope=col>Start.Time</th><th scope=col>End.Time</th><th scope=col>Trip.Duration</th><th scope=col>Start.Station</th><th scope=col>End.Station</th><th scope=col>User.Type</th><th scope=col>Gender</th><th scope=col>Birth.Year</th></tr></thead>\n",
       "<tbody>\n",
       "\t<tr><td>1423854                                                                  </td><td>2017-06-23 15:09:32                                                      </td><td>2017-06-23 15:14:53                                                      </td><td> 321                                                                     </td><td><span style=white-space:pre-wrap>Wood St &amp; Hubbard St         </span></td><td><span style=white-space:pre-wrap>Damen Ave &amp; Chicago Ave     </span> </td><td>Subscriber                                                               </td><td><span style=white-space:pre-wrap>Male  </span>                           </td><td>1992                                                                     </td></tr>\n",
       "\t<tr><td> 955915                                                              </td><td>2017-05-25 18:19:03                                                  </td><td>2017-05-25 18:45:53                                                  </td><td>1610                                                                 </td><td><span style=white-space:pre-wrap>Theater on the Lake          </span></td><td>Sheffield Ave &amp; Waveland Ave                                     </td><td>Subscriber                                                           </td><td>Female                                                               </td><td>1992                                                                 </td></tr>\n",
       "\t<tr><td><span style=white-space:pre-wrap>   9031</span>                          </td><td>2017-01-04 08:27:49                                                      </td><td>2017-01-04 08:34:45                                                      </td><td> 416                                                                     </td><td><span style=white-space:pre-wrap>May St &amp; Taylor St           </span></td><td><span style=white-space:pre-wrap>Wood St &amp; Taylor St         </span> </td><td>Subscriber                                                               </td><td><span style=white-space:pre-wrap>Male  </span>                           </td><td>1981                                                                     </td></tr>\n",
       "\t<tr><td> 304487                                       </td><td>2017-03-06 13:49:38                           </td><td>2017-03-06 13:55:28                           </td><td> 350                                          </td><td>Christiana Ave &amp; Lawrence Ave             </td><td>St. Louis Ave &amp; Balmoral Ave              </td><td>Subscriber                                    </td><td><span style=white-space:pre-wrap>Male  </span></td><td>1986                                          </td></tr>\n",
       "\t<tr><td><span style=white-space:pre-wrap>  45207</span>                          </td><td>2017-01-17 14:53:07                                                      </td><td>2017-01-17 15:02:01                                                      </td><td> 534                                                                     </td><td><span style=white-space:pre-wrap>Clark St &amp; Randolph St       </span></td><td>Desplaines St &amp; Jackson Blvd                                         </td><td>Subscriber                                                               </td><td><span style=white-space:pre-wrap>Male  </span>                           </td><td>1975                                                                     </td></tr>\n",
       "\t<tr><td>1473887                                                                 </td><td>2017-06-26 09:01:20                                                     </td><td>2017-06-26 09:11:06                                                     </td><td> 586                                                                    </td><td>Clinton St &amp; Washington Blvd                                        </td><td><span style=white-space:pre-wrap>Canal St &amp; Taylor St        </span></td><td>Subscriber                                                              </td><td><span style=white-space:pre-wrap>Male  </span>                          </td><td>1990                                                                    </td></tr>\n",
       "</tbody>\n",
       "</table>\n"
      ],
      "text/latex": [
       "\\begin{tabular}{r|lllllllll}\n",
       " X & Start.Time & End.Time & Trip.Duration & Start.Station & End.Station & User.Type & Gender & Birth.Year\\\\\n",
       "\\hline\n",
       "\t 1423854                         & 2017-06-23 15:09:32             & 2017-06-23 15:14:53             &  321                            & Wood St \\& Hubbard St          & Damen Ave \\& Chicago Ave       & Subscriber                      & Male                            & 1992                           \\\\\n",
       "\t  955915                        & 2017-05-25 18:19:03            & 2017-05-25 18:45:53            & 1610                           & Theater on the Lake            & Sheffield Ave \\& Waveland Ave & Subscriber                     & Female                         & 1992                          \\\\\n",
       "\t    9031                         & 2017-01-04 08:27:49             & 2017-01-04 08:34:45             &  416                            & May St \\& Taylor St            & Wood St \\& Taylor St           & Subscriber                      & Male                            & 1981                           \\\\\n",
       "\t  304487                         & 2017-03-06 13:49:38             & 2017-03-06 13:55:28             &  350                            & Christiana Ave \\& Lawrence Ave & St. Louis Ave \\& Balmoral Ave  & Subscriber                      & Male                            & 1986                           \\\\\n",
       "\t   45207                         & 2017-01-17 14:53:07             & 2017-01-17 15:02:01             &  534                            & Clark St \\& Randolph St        & Desplaines St \\& Jackson Blvd  & Subscriber                      & Male                            & 1975                           \\\\\n",
       "\t 1473887                         & 2017-06-26 09:01:20             & 2017-06-26 09:11:06             &  586                            & Clinton St \\& Washington Blvd  & Canal St \\& Taylor St          & Subscriber                      & Male                            & 1990                           \\\\\n",
       "\\end{tabular}\n"
      ],
      "text/markdown": [
       "\n",
       "| X | Start.Time | End.Time | Trip.Duration | Start.Station | End.Station | User.Type | Gender | Birth.Year |\n",
       "|---|---|---|---|---|---|---|---|---|\n",
       "| 1423854                       | 2017-06-23 15:09:32           | 2017-06-23 15:14:53           |  321                          | Wood St & Hubbard St          | Damen Ave & Chicago Ave       | Subscriber                    | Male                          | 1992                          |\n",
       "|  955915                       | 2017-05-25 18:19:03           | 2017-05-25 18:45:53           | 1610                          | Theater on the Lake           | Sheffield Ave & Waveland Ave  | Subscriber                    | Female                        | 1992                          |\n",
       "|    9031                       | 2017-01-04 08:27:49           | 2017-01-04 08:34:45           |  416                          | May St & Taylor St            | Wood St & Taylor St           | Subscriber                    | Male                          | 1981                          |\n",
       "|  304487                       | 2017-03-06 13:49:38           | 2017-03-06 13:55:28           |  350                          | Christiana Ave & Lawrence Ave | St. Louis Ave & Balmoral Ave  | Subscriber                    | Male                          | 1986                          |\n",
       "|   45207                       | 2017-01-17 14:53:07           | 2017-01-17 15:02:01           |  534                          | Clark St & Randolph St        | Desplaines St & Jackson Blvd  | Subscriber                    | Male                          | 1975                          |\n",
       "| 1473887                       | 2017-06-26 09:01:20           | 2017-06-26 09:11:06           |  586                          | Clinton St & Washington Blvd  | Canal St & Taylor St          | Subscriber                    | Male                          | 1990                          |\n",
       "\n"
      ],
      "text/plain": [
       "  X       Start.Time          End.Time            Trip.Duration\n",
       "1 1423854 2017-06-23 15:09:32 2017-06-23 15:14:53  321         \n",
       "2  955915 2017-05-25 18:19:03 2017-05-25 18:45:53 1610         \n",
       "3    9031 2017-01-04 08:27:49 2017-01-04 08:34:45  416         \n",
       "4  304487 2017-03-06 13:49:38 2017-03-06 13:55:28  350         \n",
       "5   45207 2017-01-17 14:53:07 2017-01-17 15:02:01  534         \n",
       "6 1473887 2017-06-26 09:01:20 2017-06-26 09:11:06  586         \n",
       "  Start.Station                 End.Station                  User.Type  Gender\n",
       "1 Wood St & Hubbard St          Damen Ave & Chicago Ave      Subscriber Male  \n",
       "2 Theater on the Lake           Sheffield Ave & Waveland Ave Subscriber Female\n",
       "3 May St & Taylor St            Wood St & Taylor St          Subscriber Male  \n",
       "4 Christiana Ave & Lawrence Ave St. Louis Ave & Balmoral Ave Subscriber Male  \n",
       "5 Clark St & Randolph St        Desplaines St & Jackson Blvd Subscriber Male  \n",
       "6 Clinton St & Washington Blvd  Canal St & Taylor St         Subscriber Male  \n",
       "  Birth.Year\n",
       "1 1992      \n",
       "2 1992      \n",
       "3 1981      \n",
       "4 1986      \n",
       "5 1975      \n",
       "6 1990      "
      ]
     },
     "metadata": {},
     "output_type": "display_data"
    }
   ],
   "source": [
    "head(chicago)"
   ]
  },
  {
   "cell_type": "code",
   "execution_count": 5,
   "metadata": {},
   "outputs": [],
   "source": [
    "washington= read.csv('washington.csv')"
   ]
  },
  {
   "cell_type": "code",
   "execution_count": 6,
   "metadata": {},
   "outputs": [
    {
     "data": {
      "text/html": [
       "<table>\n",
       "<thead><tr><th scope=col>X</th><th scope=col>Start.Time</th><th scope=col>End.Time</th><th scope=col>Trip.Duration</th><th scope=col>Start.Station</th><th scope=col>End.Station</th><th scope=col>User.Type</th></tr></thead>\n",
       "<tbody>\n",
       "\t<tr><td>1621326                                                                                        </td><td>2017-06-21 08:36:34                                                                            </td><td>2017-06-21 08:44:43                                                                            </td><td> 489.066                                                                                       </td><td><span style=white-space:pre-wrap>14th &amp; Belmont St NW                       </span>        </td><td><span style=white-space:pre-wrap>15th &amp; K St NW                                     </span></td><td>Subscriber                                                                                     </td></tr>\n",
       "\t<tr><td> 482740                                                                                        </td><td>2017-03-11 10:40:00                                                                            </td><td>2017-03-11 10:46:00                                                                            </td><td> 402.549                                                                                       </td><td><span style=white-space:pre-wrap>Yuma St &amp; Tenley Circle NW                 </span>        </td><td><span style=white-space:pre-wrap>Connecticut Ave &amp; Yuma St NW                       </span></td><td>Subscriber                                                                                     </td></tr>\n",
       "\t<tr><td>1330037                                                                                        </td><td>2017-05-30 01:02:59                                                                            </td><td>2017-05-30 01:13:37                                                                            </td><td> 637.251                                                                                       </td><td><span style=white-space:pre-wrap>17th St &amp; Massachusetts Ave NW             </span>        </td><td><span style=white-space:pre-wrap>5th &amp; K St NW                                      </span></td><td>Subscriber                                                                                     </td></tr>\n",
       "\t<tr><td> 665458                                                                                        </td><td>2017-04-02 07:48:35                                                                            </td><td>2017-04-02 08:19:03                                                                            </td><td>1827.341                                                                                       </td><td><span style=white-space:pre-wrap>Constitution Ave &amp; 2nd St NW/DOL           </span>        </td><td><span style=white-space:pre-wrap>M St &amp; Pennsylvania Ave NW                         </span></td><td><span style=white-space:pre-wrap>Customer  </span>                                             </td></tr>\n",
       "\t<tr><td>1481135                                                                                        </td><td>2017-06-10 08:36:28                                                                            </td><td>2017-06-10 09:02:17                                                                            </td><td>1549.427                                                                                       </td><td>Henry Bacon Dr &amp; Lincoln Memorial Circle NW                                                </td><td><span style=white-space:pre-wrap>Maine Ave &amp; 7th St SW                              </span></td><td>Subscriber                                                                                     </td></tr>\n",
       "\t<tr><td>1148202                                                                                </td><td>2017-05-14 07:18:18                                                                    </td><td>2017-05-14 07:24:56                                                                    </td><td> 398.000                                                                               </td><td><span style=white-space:pre-wrap>1st &amp; K St SE                              </span></td><td>Eastern Market Metro / Pennsylvania Ave &amp; 7th St SE                                </td><td>Subscriber                                                                             </td></tr>\n",
       "</tbody>\n",
       "</table>\n"
      ],
      "text/latex": [
       "\\begin{tabular}{r|lllllll}\n",
       " X & Start.Time & End.Time & Trip.Duration & Start.Station & End.Station & User.Type\\\\\n",
       "\\hline\n",
       "\t 1621326                                               & 2017-06-21 08:36:34                                   & 2017-06-21 08:44:43                                   &  489.066                                              & 14th \\& Belmont St NW                                & 15th \\& K St NW                                      & Subscriber                                           \\\\\n",
       "\t  482740                                               & 2017-03-11 10:40:00                                   & 2017-03-11 10:46:00                                   &  402.549                                              & Yuma St \\& Tenley Circle NW                          & Connecticut Ave \\& Yuma St NW                        & Subscriber                                           \\\\\n",
       "\t 1330037                                               & 2017-05-30 01:02:59                                   & 2017-05-30 01:13:37                                   &  637.251                                              & 17th St \\& Massachusetts Ave NW                      & 5th \\& K St NW                                       & Subscriber                                           \\\\\n",
       "\t  665458                                               & 2017-04-02 07:48:35                                   & 2017-04-02 08:19:03                                   & 1827.341                                              & Constitution Ave \\& 2nd St NW/DOL                    & M St \\& Pennsylvania Ave NW                          & Customer                                             \\\\\n",
       "\t 1481135                                               & 2017-06-10 08:36:28                                   & 2017-06-10 09:02:17                                   & 1549.427                                              & Henry Bacon Dr \\& Lincoln Memorial Circle NW         & Maine Ave \\& 7th St SW                               & Subscriber                                           \\\\\n",
       "\t 1148202                                               & 2017-05-14 07:18:18                                   & 2017-05-14 07:24:56                                   &  398.000                                              & 1st \\& K St SE                                       & Eastern Market Metro / Pennsylvania Ave \\& 7th St SE & Subscriber                                           \\\\\n",
       "\\end{tabular}\n"
      ],
      "text/markdown": [
       "\n",
       "| X | Start.Time | End.Time | Trip.Duration | Start.Station | End.Station | User.Type |\n",
       "|---|---|---|---|---|---|---|\n",
       "| 1621326                                             | 2017-06-21 08:36:34                                 | 2017-06-21 08:44:43                                 |  489.066                                            | 14th & Belmont St NW                                | 15th & K St NW                                      | Subscriber                                          |\n",
       "|  482740                                             | 2017-03-11 10:40:00                                 | 2017-03-11 10:46:00                                 |  402.549                                            | Yuma St & Tenley Circle NW                          | Connecticut Ave & Yuma St NW                        | Subscriber                                          |\n",
       "| 1330037                                             | 2017-05-30 01:02:59                                 | 2017-05-30 01:13:37                                 |  637.251                                            | 17th St & Massachusetts Ave NW                      | 5th & K St NW                                       | Subscriber                                          |\n",
       "|  665458                                             | 2017-04-02 07:48:35                                 | 2017-04-02 08:19:03                                 | 1827.341                                            | Constitution Ave & 2nd St NW/DOL                    | M St & Pennsylvania Ave NW                          | Customer                                            |\n",
       "| 1481135                                             | 2017-06-10 08:36:28                                 | 2017-06-10 09:02:17                                 | 1549.427                                            | Henry Bacon Dr & Lincoln Memorial Circle NW         | Maine Ave & 7th St SW                               | Subscriber                                          |\n",
       "| 1148202                                             | 2017-05-14 07:18:18                                 | 2017-05-14 07:24:56                                 |  398.000                                            | 1st & K St SE                                       | Eastern Market Metro / Pennsylvania Ave & 7th St SE | Subscriber                                          |\n",
       "\n"
      ],
      "text/plain": [
       "  X       Start.Time          End.Time            Trip.Duration\n",
       "1 1621326 2017-06-21 08:36:34 2017-06-21 08:44:43  489.066     \n",
       "2  482740 2017-03-11 10:40:00 2017-03-11 10:46:00  402.549     \n",
       "3 1330037 2017-05-30 01:02:59 2017-05-30 01:13:37  637.251     \n",
       "4  665458 2017-04-02 07:48:35 2017-04-02 08:19:03 1827.341     \n",
       "5 1481135 2017-06-10 08:36:28 2017-06-10 09:02:17 1549.427     \n",
       "6 1148202 2017-05-14 07:18:18 2017-05-14 07:24:56  398.000     \n",
       "  Start.Station                              \n",
       "1 14th & Belmont St NW                       \n",
       "2 Yuma St & Tenley Circle NW                 \n",
       "3 17th St & Massachusetts Ave NW             \n",
       "4 Constitution Ave & 2nd St NW/DOL           \n",
       "5 Henry Bacon Dr & Lincoln Memorial Circle NW\n",
       "6 1st & K St SE                              \n",
       "  End.Station                                         User.Type \n",
       "1 15th & K St NW                                      Subscriber\n",
       "2 Connecticut Ave & Yuma St NW                        Subscriber\n",
       "3 5th & K St NW                                       Subscriber\n",
       "4 M St & Pennsylvania Ave NW                          Customer  \n",
       "5 Maine Ave & 7th St SW                               Subscriber\n",
       "6 Eastern Market Metro / Pennsylvania Ave & 7th St SE Subscriber"
      ]
     },
     "metadata": {},
     "output_type": "display_data"
    }
   ],
   "source": [
    "head(washington)"
   ]
  },
  {
   "cell_type": "markdown",
   "metadata": {},
   "source": [
    "## Splitting timestamps into months, days, hours "
   ]
  },
  {
   "cell_type": "code",
   "execution_count": 7,
   "metadata": {},
   "outputs": [],
   "source": [
    "nyc$Time <- format(as.POSIXct(nyc$Start.Time,format=\"%Y-%m-%d %H:%M:%S\"),\"%H\")\n",
    "\n",
    "nyc$month <- format(as.POSIXct(nyc$Start.Time,format=\"%Y-%m-%d %H:%M:%S\"),\"%m\")\n",
    "\n",
    "nyc$Day <- format(as.POSIXct(nyc$Start.Time,format=\"%Y-%m-%d %H:%M:%S\"),\"%d\")"
   ]
  },
  {
   "cell_type": "code",
   "execution_count": 8,
   "metadata": {},
   "outputs": [
    {
     "data": {
      "text/html": [
       "<table>\n",
       "<thead><tr><th scope=col>X</th><th scope=col>Start.Time</th><th scope=col>End.Time</th><th scope=col>Trip.Duration</th><th scope=col>Start.Station</th><th scope=col>End.Station</th><th scope=col>User.Type</th><th scope=col>Gender</th><th scope=col>Birth.Year</th><th scope=col>Time</th><th scope=col>month</th><th scope=col>Day</th></tr></thead>\n",
       "<tbody>\n",
       "\t<tr><td>5688089                                       </td><td>2017-06-11 14:55:05                           </td><td>2017-06-11 15:08:21                           </td><td> 795                                          </td><td>Suffolk St &amp; Stanton St                   </td><td>W Broadway &amp; Spring St                    </td><td>Subscriber                                    </td><td><span style=white-space:pre-wrap>Male  </span></td><td>1998                                          </td><td>14                                            </td><td>06                                            </td><td>11                                            </td></tr>\n",
       "\t<tr><td>4096714                                                           </td><td>2017-05-11 15:30:11                                               </td><td>2017-05-11 15:41:43                                               </td><td> 692                                                              </td><td>Lexington Ave &amp; E 63 St                                       </td><td><span style=white-space:pre-wrap>1 Ave &amp; E 78 St       </span></td><td>Subscriber                                                        </td><td><span style=white-space:pre-wrap>Male  </span>                    </td><td>1981                                                              </td><td>15                                                                </td><td>05                                                                </td><td>11                                                                </td></tr>\n",
       "\t<tr><td>2173887                                                            </td><td>2017-03-29 13:26:26                                                </td><td>2017-03-29 13:48:31                                                </td><td>1325                                                               </td><td><span style=white-space:pre-wrap>1 Pl &amp; Clinton St      </span></td><td><span style=white-space:pre-wrap>Henry St &amp; Degraw St  </span> </td><td>Subscriber                                                         </td><td><span style=white-space:pre-wrap>Male  </span>                     </td><td>1987                                                               </td><td>13                                                                 </td><td>03                                                                 </td><td>29                                                                 </td></tr>\n",
       "\t<tr><td>3945638                                                            </td><td>2017-05-08 19:47:18                                                </td><td>2017-05-08 19:59:01                                                </td><td> 703                                                               </td><td><span style=white-space:pre-wrap>Barrow St &amp; Hudson St  </span></td><td><span style=white-space:pre-wrap>W 20 St &amp; 8 Ave       </span> </td><td>Subscriber                                                         </td><td>Female                                                             </td><td>1986                                                               </td><td>19                                                                 </td><td>05                                                                 </td><td>08                                                                 </td></tr>\n",
       "\t<tr><td>6208972                                                            </td><td>2017-06-21 07:49:16                                                </td><td>2017-06-21 07:54:46                                                </td><td> 329                                                               </td><td><span style=white-space:pre-wrap>1 Ave &amp; E 44 St        </span></td><td><span style=white-space:pre-wrap>E 53 St &amp; 3 Ave       </span> </td><td>Subscriber                                                         </td><td><span style=white-space:pre-wrap>Male  </span>                     </td><td>1992                                                               </td><td>07                                                                 </td><td>06                                                                 </td><td>21                                                                 </td></tr>\n",
       "\t<tr><td>1285652                                                            </td><td>2017-02-22 18:55:24                                                </td><td>2017-02-22 19:12:03                                                </td><td> 998                                                               </td><td><span style=white-space:pre-wrap>State St &amp; Smith St    </span></td><td><span style=white-space:pre-wrap>Bond St &amp; Fulton St   </span> </td><td>Subscriber                                                         </td><td><span style=white-space:pre-wrap>Male  </span>                     </td><td>1986                                                               </td><td>18                                                                 </td><td>02                                                                 </td><td>22                                                                 </td></tr>\n",
       "</tbody>\n",
       "</table>\n"
      ],
      "text/latex": [
       "\\begin{tabular}{r|llllllllllll}\n",
       " X & Start.Time & End.Time & Trip.Duration & Start.Station & End.Station & User.Type & Gender & Birth.Year & Time & month & Day\\\\\n",
       "\\hline\n",
       "\t 5688089                   & 2017-06-11 14:55:05       & 2017-06-11 15:08:21       &  795                      & Suffolk St \\& Stanton St & W Broadway \\& Spring St  & Subscriber                & Male                      & 1998                      & 14                        & 06                        & 11                       \\\\\n",
       "\t 4096714                   & 2017-05-11 15:30:11       & 2017-05-11 15:41:43       &  692                      & Lexington Ave \\& E 63 St & 1 Ave \\& E 78 St         & Subscriber                & Male                      & 1981                      & 15                        & 05                        & 11                       \\\\\n",
       "\t 2173887                   & 2017-03-29 13:26:26       & 2017-03-29 13:48:31       & 1325                      & 1 Pl \\& Clinton St       & Henry St \\& Degraw St    & Subscriber                & Male                      & 1987                      & 13                        & 03                        & 29                       \\\\\n",
       "\t 3945638                   & 2017-05-08 19:47:18       & 2017-05-08 19:59:01       &  703                      & Barrow St \\& Hudson St   & W 20 St \\& 8 Ave         & Subscriber                & Female                    & 1986                      & 19                        & 05                        & 08                       \\\\\n",
       "\t 6208972                   & 2017-06-21 07:49:16       & 2017-06-21 07:54:46       &  329                      & 1 Ave \\& E 44 St         & E 53 St \\& 3 Ave         & Subscriber                & Male                      & 1992                      & 07                        & 06                        & 21                       \\\\\n",
       "\t 1285652                   & 2017-02-22 18:55:24       & 2017-02-22 19:12:03       &  998                      & State St \\& Smith St     & Bond St \\& Fulton St     & Subscriber                & Male                      & 1986                      & 18                        & 02                        & 22                       \\\\\n",
       "\\end{tabular}\n"
      ],
      "text/markdown": [
       "\n",
       "| X | Start.Time | End.Time | Trip.Duration | Start.Station | End.Station | User.Type | Gender | Birth.Year | Time | month | Day |\n",
       "|---|---|---|---|---|---|---|---|---|---|---|---|\n",
       "| 5688089                 | 2017-06-11 14:55:05     | 2017-06-11 15:08:21     |  795                    | Suffolk St & Stanton St | W Broadway & Spring St  | Subscriber              | Male                    | 1998                    | 14                      | 06                      | 11                      |\n",
       "| 4096714                 | 2017-05-11 15:30:11     | 2017-05-11 15:41:43     |  692                    | Lexington Ave & E 63 St | 1 Ave & E 78 St         | Subscriber              | Male                    | 1981                    | 15                      | 05                      | 11                      |\n",
       "| 2173887                 | 2017-03-29 13:26:26     | 2017-03-29 13:48:31     | 1325                    | 1 Pl & Clinton St       | Henry St & Degraw St    | Subscriber              | Male                    | 1987                    | 13                      | 03                      | 29                      |\n",
       "| 3945638                 | 2017-05-08 19:47:18     | 2017-05-08 19:59:01     |  703                    | Barrow St & Hudson St   | W 20 St & 8 Ave         | Subscriber              | Female                  | 1986                    | 19                      | 05                      | 08                      |\n",
       "| 6208972                 | 2017-06-21 07:49:16     | 2017-06-21 07:54:46     |  329                    | 1 Ave & E 44 St         | E 53 St & 3 Ave         | Subscriber              | Male                    | 1992                    | 07                      | 06                      | 21                      |\n",
       "| 1285652                 | 2017-02-22 18:55:24     | 2017-02-22 19:12:03     |  998                    | State St & Smith St     | Bond St & Fulton St     | Subscriber              | Male                    | 1986                    | 18                      | 02                      | 22                      |\n",
       "\n"
      ],
      "text/plain": [
       "  X       Start.Time          End.Time            Trip.Duration\n",
       "1 5688089 2017-06-11 14:55:05 2017-06-11 15:08:21  795         \n",
       "2 4096714 2017-05-11 15:30:11 2017-05-11 15:41:43  692         \n",
       "3 2173887 2017-03-29 13:26:26 2017-03-29 13:48:31 1325         \n",
       "4 3945638 2017-05-08 19:47:18 2017-05-08 19:59:01  703         \n",
       "5 6208972 2017-06-21 07:49:16 2017-06-21 07:54:46  329         \n",
       "6 1285652 2017-02-22 18:55:24 2017-02-22 19:12:03  998         \n",
       "  Start.Station           End.Station            User.Type  Gender Birth.Year\n",
       "1 Suffolk St & Stanton St W Broadway & Spring St Subscriber Male   1998      \n",
       "2 Lexington Ave & E 63 St 1 Ave & E 78 St        Subscriber Male   1981      \n",
       "3 1 Pl & Clinton St       Henry St & Degraw St   Subscriber Male   1987      \n",
       "4 Barrow St & Hudson St   W 20 St & 8 Ave        Subscriber Female 1986      \n",
       "5 1 Ave & E 44 St         E 53 St & 3 Ave        Subscriber Male   1992      \n",
       "6 State St & Smith St     Bond St & Fulton St    Subscriber Male   1986      \n",
       "  Time month Day\n",
       "1 14   06    11 \n",
       "2 15   05    11 \n",
       "3 13   03    29 \n",
       "4 19   05    08 \n",
       "5 07   06    21 \n",
       "6 18   02    22 "
      ]
     },
     "metadata": {},
     "output_type": "display_data"
    }
   ],
   "source": [
    "head(nyc)"
   ]
  },
  {
   "cell_type": "code",
   "execution_count": 9,
   "metadata": {},
   "outputs": [],
   "source": [
    "chicago$Time <- format(as.POSIXct(chicago$Start.Time,format=\"%Y-%m-%d %H:%M:%S\"),\"%H\")\n",
    "\n",
    "chicago$month <- format(as.POSIXct(chicago$Start.Time,format=\"%Y-%m-%d %H:%M:%S\"),\"%m\")\n",
    "\n",
    "chicago$Day <- format(as.POSIXct(chicago$Start.Time,format=\"%Y-%m-%d %H:%M:%S\"),\"%d\")"
   ]
  },
  {
   "cell_type": "code",
   "execution_count": 10,
   "metadata": {},
   "outputs": [
    {
     "data": {
      "text/html": [
       "<table>\n",
       "<thead><tr><th scope=col>X</th><th scope=col>Start.Time</th><th scope=col>End.Time</th><th scope=col>Trip.Duration</th><th scope=col>Start.Station</th><th scope=col>End.Station</th><th scope=col>User.Type</th><th scope=col>Gender</th><th scope=col>Birth.Year</th><th scope=col>Time</th><th scope=col>month</th><th scope=col>Day</th></tr></thead>\n",
       "<tbody>\n",
       "\t<tr><td>1423854                                                                  </td><td>2017-06-23 15:09:32                                                      </td><td>2017-06-23 15:14:53                                                      </td><td> 321                                                                     </td><td><span style=white-space:pre-wrap>Wood St &amp; Hubbard St         </span></td><td><span style=white-space:pre-wrap>Damen Ave &amp; Chicago Ave     </span> </td><td>Subscriber                                                               </td><td><span style=white-space:pre-wrap>Male  </span>                           </td><td>1992                                                                     </td><td>15                                                                       </td><td>06                                                                       </td><td>23                                                                       </td></tr>\n",
       "\t<tr><td> 955915                                                              </td><td>2017-05-25 18:19:03                                                  </td><td>2017-05-25 18:45:53                                                  </td><td>1610                                                                 </td><td><span style=white-space:pre-wrap>Theater on the Lake          </span></td><td>Sheffield Ave &amp; Waveland Ave                                     </td><td>Subscriber                                                           </td><td>Female                                                               </td><td>1992                                                                 </td><td>18                                                                   </td><td>05                                                                   </td><td>25                                                                   </td></tr>\n",
       "\t<tr><td><span style=white-space:pre-wrap>   9031</span>                          </td><td>2017-01-04 08:27:49                                                      </td><td>2017-01-04 08:34:45                                                      </td><td> 416                                                                     </td><td><span style=white-space:pre-wrap>May St &amp; Taylor St           </span></td><td><span style=white-space:pre-wrap>Wood St &amp; Taylor St         </span> </td><td>Subscriber                                                               </td><td><span style=white-space:pre-wrap>Male  </span>                           </td><td>1981                                                                     </td><td>08                                                                       </td><td>01                                                                       </td><td>04                                                                       </td></tr>\n",
       "\t<tr><td> 304487                                       </td><td>2017-03-06 13:49:38                           </td><td>2017-03-06 13:55:28                           </td><td> 350                                          </td><td>Christiana Ave &amp; Lawrence Ave             </td><td>St. Louis Ave &amp; Balmoral Ave              </td><td>Subscriber                                    </td><td><span style=white-space:pre-wrap>Male  </span></td><td>1986                                          </td><td>13                                            </td><td>03                                            </td><td>06                                            </td></tr>\n",
       "\t<tr><td><span style=white-space:pre-wrap>  45207</span>                          </td><td>2017-01-17 14:53:07                                                      </td><td>2017-01-17 15:02:01                                                      </td><td> 534                                                                     </td><td><span style=white-space:pre-wrap>Clark St &amp; Randolph St       </span></td><td>Desplaines St &amp; Jackson Blvd                                         </td><td>Subscriber                                                               </td><td><span style=white-space:pre-wrap>Male  </span>                           </td><td>1975                                                                     </td><td>14                                                                       </td><td>01                                                                       </td><td>17                                                                       </td></tr>\n",
       "\t<tr><td>1473887                                                                 </td><td>2017-06-26 09:01:20                                                     </td><td>2017-06-26 09:11:06                                                     </td><td> 586                                                                    </td><td>Clinton St &amp; Washington Blvd                                        </td><td><span style=white-space:pre-wrap>Canal St &amp; Taylor St        </span></td><td>Subscriber                                                              </td><td><span style=white-space:pre-wrap>Male  </span>                          </td><td>1990                                                                    </td><td>09                                                                      </td><td>06                                                                      </td><td>26                                                                      </td></tr>\n",
       "</tbody>\n",
       "</table>\n"
      ],
      "text/latex": [
       "\\begin{tabular}{r|llllllllllll}\n",
       " X & Start.Time & End.Time & Trip.Duration & Start.Station & End.Station & User.Type & Gender & Birth.Year & Time & month & Day\\\\\n",
       "\\hline\n",
       "\t 1423854                         & 2017-06-23 15:09:32             & 2017-06-23 15:14:53             &  321                            & Wood St \\& Hubbard St          & Damen Ave \\& Chicago Ave       & Subscriber                      & Male                            & 1992                            & 15                              & 06                              & 23                             \\\\\n",
       "\t  955915                        & 2017-05-25 18:19:03            & 2017-05-25 18:45:53            & 1610                           & Theater on the Lake            & Sheffield Ave \\& Waveland Ave & Subscriber                     & Female                         & 1992                           & 18                             & 05                             & 25                            \\\\\n",
       "\t    9031                         & 2017-01-04 08:27:49             & 2017-01-04 08:34:45             &  416                            & May St \\& Taylor St            & Wood St \\& Taylor St           & Subscriber                      & Male                            & 1981                            & 08                              & 01                              & 04                             \\\\\n",
       "\t  304487                         & 2017-03-06 13:49:38             & 2017-03-06 13:55:28             &  350                            & Christiana Ave \\& Lawrence Ave & St. Louis Ave \\& Balmoral Ave  & Subscriber                      & Male                            & 1986                            & 13                              & 03                              & 06                             \\\\\n",
       "\t   45207                         & 2017-01-17 14:53:07             & 2017-01-17 15:02:01             &  534                            & Clark St \\& Randolph St        & Desplaines St \\& Jackson Blvd  & Subscriber                      & Male                            & 1975                            & 14                              & 01                              & 17                             \\\\\n",
       "\t 1473887                         & 2017-06-26 09:01:20             & 2017-06-26 09:11:06             &  586                            & Clinton St \\& Washington Blvd  & Canal St \\& Taylor St          & Subscriber                      & Male                            & 1990                            & 09                              & 06                              & 26                             \\\\\n",
       "\\end{tabular}\n"
      ],
      "text/markdown": [
       "\n",
       "| X | Start.Time | End.Time | Trip.Duration | Start.Station | End.Station | User.Type | Gender | Birth.Year | Time | month | Day |\n",
       "|---|---|---|---|---|---|---|---|---|---|---|---|\n",
       "| 1423854                       | 2017-06-23 15:09:32           | 2017-06-23 15:14:53           |  321                          | Wood St & Hubbard St          | Damen Ave & Chicago Ave       | Subscriber                    | Male                          | 1992                          | 15                            | 06                            | 23                            |\n",
       "|  955915                       | 2017-05-25 18:19:03           | 2017-05-25 18:45:53           | 1610                          | Theater on the Lake           | Sheffield Ave & Waveland Ave  | Subscriber                    | Female                        | 1992                          | 18                            | 05                            | 25                            |\n",
       "|    9031                       | 2017-01-04 08:27:49           | 2017-01-04 08:34:45           |  416                          | May St & Taylor St            | Wood St & Taylor St           | Subscriber                    | Male                          | 1981                          | 08                            | 01                            | 04                            |\n",
       "|  304487                       | 2017-03-06 13:49:38           | 2017-03-06 13:55:28           |  350                          | Christiana Ave & Lawrence Ave | St. Louis Ave & Balmoral Ave  | Subscriber                    | Male                          | 1986                          | 13                            | 03                            | 06                            |\n",
       "|   45207                       | 2017-01-17 14:53:07           | 2017-01-17 15:02:01           |  534                          | Clark St & Randolph St        | Desplaines St & Jackson Blvd  | Subscriber                    | Male                          | 1975                          | 14                            | 01                            | 17                            |\n",
       "| 1473887                       | 2017-06-26 09:01:20           | 2017-06-26 09:11:06           |  586                          | Clinton St & Washington Blvd  | Canal St & Taylor St          | Subscriber                    | Male                          | 1990                          | 09                            | 06                            | 26                            |\n",
       "\n"
      ],
      "text/plain": [
       "  X       Start.Time          End.Time            Trip.Duration\n",
       "1 1423854 2017-06-23 15:09:32 2017-06-23 15:14:53  321         \n",
       "2  955915 2017-05-25 18:19:03 2017-05-25 18:45:53 1610         \n",
       "3    9031 2017-01-04 08:27:49 2017-01-04 08:34:45  416         \n",
       "4  304487 2017-03-06 13:49:38 2017-03-06 13:55:28  350         \n",
       "5   45207 2017-01-17 14:53:07 2017-01-17 15:02:01  534         \n",
       "6 1473887 2017-06-26 09:01:20 2017-06-26 09:11:06  586         \n",
       "  Start.Station                 End.Station                  User.Type  Gender\n",
       "1 Wood St & Hubbard St          Damen Ave & Chicago Ave      Subscriber Male  \n",
       "2 Theater on the Lake           Sheffield Ave & Waveland Ave Subscriber Female\n",
       "3 May St & Taylor St            Wood St & Taylor St          Subscriber Male  \n",
       "4 Christiana Ave & Lawrence Ave St. Louis Ave & Balmoral Ave Subscriber Male  \n",
       "5 Clark St & Randolph St        Desplaines St & Jackson Blvd Subscriber Male  \n",
       "6 Clinton St & Washington Blvd  Canal St & Taylor St         Subscriber Male  \n",
       "  Birth.Year Time month Day\n",
       "1 1992       15   06    23 \n",
       "2 1992       18   05    25 \n",
       "3 1981       08   01    04 \n",
       "4 1986       13   03    06 \n",
       "5 1975       14   01    17 \n",
       "6 1990       09   06    26 "
      ]
     },
     "metadata": {},
     "output_type": "display_data"
    }
   ],
   "source": [
    "head(chicago)"
   ]
  },
  {
   "cell_type": "code",
   "execution_count": 11,
   "metadata": {},
   "outputs": [],
   "source": [
    "washington$Time <- format(as.POSIXct(washington$Start.Time,format=\"%Y-%m-%d %H:%M:%S\"),\"%H\")\n",
    "\n",
    "washington$month <- format(as.POSIXct(washington$Start.Time,format=\"%Y-%m-%d %H:%M:%S\"),\"%m\")\n",
    "\n",
    "washington$Day <- format(as.POSIXct(washington$Start.Time,format=\"%Y-%m-%d %H:%M:%S\"),\"%d\")"
   ]
  },
  {
   "cell_type": "code",
   "execution_count": 12,
   "metadata": {},
   "outputs": [
    {
     "data": {
      "text/html": [
       "<table>\n",
       "<thead><tr><th scope=col>X</th><th scope=col>Start.Time</th><th scope=col>End.Time</th><th scope=col>Trip.Duration</th><th scope=col>Start.Station</th><th scope=col>End.Station</th><th scope=col>User.Type</th><th scope=col>Time</th><th scope=col>month</th><th scope=col>Day</th></tr></thead>\n",
       "<tbody>\n",
       "\t<tr><td>1621326                                                                                        </td><td>2017-06-21 08:36:34                                                                            </td><td>2017-06-21 08:44:43                                                                            </td><td> 489.066                                                                                       </td><td><span style=white-space:pre-wrap>14th &amp; Belmont St NW                       </span>        </td><td><span style=white-space:pre-wrap>15th &amp; K St NW                                     </span></td><td>Subscriber                                                                                     </td><td>08                                                                                             </td><td>06                                                                                             </td><td>21                                                                                             </td></tr>\n",
       "\t<tr><td> 482740                                                                                        </td><td>2017-03-11 10:40:00                                                                            </td><td>2017-03-11 10:46:00                                                                            </td><td> 402.549                                                                                       </td><td><span style=white-space:pre-wrap>Yuma St &amp; Tenley Circle NW                 </span>        </td><td><span style=white-space:pre-wrap>Connecticut Ave &amp; Yuma St NW                       </span></td><td>Subscriber                                                                                     </td><td>10                                                                                             </td><td>03                                                                                             </td><td>11                                                                                             </td></tr>\n",
       "\t<tr><td>1330037                                                                                        </td><td>2017-05-30 01:02:59                                                                            </td><td>2017-05-30 01:13:37                                                                            </td><td> 637.251                                                                                       </td><td><span style=white-space:pre-wrap>17th St &amp; Massachusetts Ave NW             </span>        </td><td><span style=white-space:pre-wrap>5th &amp; K St NW                                      </span></td><td>Subscriber                                                                                     </td><td>01                                                                                             </td><td>05                                                                                             </td><td>30                                                                                             </td></tr>\n",
       "\t<tr><td> 665458                                                                                        </td><td>2017-04-02 07:48:35                                                                            </td><td>2017-04-02 08:19:03                                                                            </td><td>1827.341                                                                                       </td><td><span style=white-space:pre-wrap>Constitution Ave &amp; 2nd St NW/DOL           </span>        </td><td><span style=white-space:pre-wrap>M St &amp; Pennsylvania Ave NW                         </span></td><td><span style=white-space:pre-wrap>Customer  </span>                                             </td><td>07                                                                                             </td><td>04                                                                                             </td><td>02                                                                                             </td></tr>\n",
       "\t<tr><td>1481135                                                                                        </td><td>2017-06-10 08:36:28                                                                            </td><td>2017-06-10 09:02:17                                                                            </td><td>1549.427                                                                                       </td><td>Henry Bacon Dr &amp; Lincoln Memorial Circle NW                                                </td><td><span style=white-space:pre-wrap>Maine Ave &amp; 7th St SW                              </span></td><td>Subscriber                                                                                     </td><td>08                                                                                             </td><td>06                                                                                             </td><td>10                                                                                             </td></tr>\n",
       "\t<tr><td>1148202                                                                                </td><td>2017-05-14 07:18:18                                                                    </td><td>2017-05-14 07:24:56                                                                    </td><td> 398.000                                                                               </td><td><span style=white-space:pre-wrap>1st &amp; K St SE                              </span></td><td>Eastern Market Metro / Pennsylvania Ave &amp; 7th St SE                                </td><td>Subscriber                                                                             </td><td>07                                                                                     </td><td>05                                                                                     </td><td>14                                                                                     </td></tr>\n",
       "</tbody>\n",
       "</table>\n"
      ],
      "text/latex": [
       "\\begin{tabular}{r|llllllllll}\n",
       " X & Start.Time & End.Time & Trip.Duration & Start.Station & End.Station & User.Type & Time & month & Day\\\\\n",
       "\\hline\n",
       "\t 1621326                                               & 2017-06-21 08:36:34                                   & 2017-06-21 08:44:43                                   &  489.066                                              & 14th \\& Belmont St NW                                & 15th \\& K St NW                                      & Subscriber                                            & 08                                                    & 06                                                    & 21                                                   \\\\\n",
       "\t  482740                                               & 2017-03-11 10:40:00                                   & 2017-03-11 10:46:00                                   &  402.549                                              & Yuma St \\& Tenley Circle NW                          & Connecticut Ave \\& Yuma St NW                        & Subscriber                                            & 10                                                    & 03                                                    & 11                                                   \\\\\n",
       "\t 1330037                                               & 2017-05-30 01:02:59                                   & 2017-05-30 01:13:37                                   &  637.251                                              & 17th St \\& Massachusetts Ave NW                      & 5th \\& K St NW                                       & Subscriber                                            & 01                                                    & 05                                                    & 30                                                   \\\\\n",
       "\t  665458                                               & 2017-04-02 07:48:35                                   & 2017-04-02 08:19:03                                   & 1827.341                                              & Constitution Ave \\& 2nd St NW/DOL                    & M St \\& Pennsylvania Ave NW                          & Customer                                              & 07                                                    & 04                                                    & 02                                                   \\\\\n",
       "\t 1481135                                               & 2017-06-10 08:36:28                                   & 2017-06-10 09:02:17                                   & 1549.427                                              & Henry Bacon Dr \\& Lincoln Memorial Circle NW         & Maine Ave \\& 7th St SW                               & Subscriber                                            & 08                                                    & 06                                                    & 10                                                   \\\\\n",
       "\t 1148202                                               & 2017-05-14 07:18:18                                   & 2017-05-14 07:24:56                                   &  398.000                                              & 1st \\& K St SE                                       & Eastern Market Metro / Pennsylvania Ave \\& 7th St SE & Subscriber                                            & 07                                                    & 05                                                    & 14                                                   \\\\\n",
       "\\end{tabular}\n"
      ],
      "text/markdown": [
       "\n",
       "| X | Start.Time | End.Time | Trip.Duration | Start.Station | End.Station | User.Type | Time | month | Day |\n",
       "|---|---|---|---|---|---|---|---|---|---|\n",
       "| 1621326                                             | 2017-06-21 08:36:34                                 | 2017-06-21 08:44:43                                 |  489.066                                            | 14th & Belmont St NW                                | 15th & K St NW                                      | Subscriber                                          | 08                                                  | 06                                                  | 21                                                  |\n",
       "|  482740                                             | 2017-03-11 10:40:00                                 | 2017-03-11 10:46:00                                 |  402.549                                            | Yuma St & Tenley Circle NW                          | Connecticut Ave & Yuma St NW                        | Subscriber                                          | 10                                                  | 03                                                  | 11                                                  |\n",
       "| 1330037                                             | 2017-05-30 01:02:59                                 | 2017-05-30 01:13:37                                 |  637.251                                            | 17th St & Massachusetts Ave NW                      | 5th & K St NW                                       | Subscriber                                          | 01                                                  | 05                                                  | 30                                                  |\n",
       "|  665458                                             | 2017-04-02 07:48:35                                 | 2017-04-02 08:19:03                                 | 1827.341                                            | Constitution Ave & 2nd St NW/DOL                    | M St & Pennsylvania Ave NW                          | Customer                                            | 07                                                  | 04                                                  | 02                                                  |\n",
       "| 1481135                                             | 2017-06-10 08:36:28                                 | 2017-06-10 09:02:17                                 | 1549.427                                            | Henry Bacon Dr & Lincoln Memorial Circle NW         | Maine Ave & 7th St SW                               | Subscriber                                          | 08                                                  | 06                                                  | 10                                                  |\n",
       "| 1148202                                             | 2017-05-14 07:18:18                                 | 2017-05-14 07:24:56                                 |  398.000                                            | 1st & K St SE                                       | Eastern Market Metro / Pennsylvania Ave & 7th St SE | Subscriber                                          | 07                                                  | 05                                                  | 14                                                  |\n",
       "\n"
      ],
      "text/plain": [
       "  X       Start.Time          End.Time            Trip.Duration\n",
       "1 1621326 2017-06-21 08:36:34 2017-06-21 08:44:43  489.066     \n",
       "2  482740 2017-03-11 10:40:00 2017-03-11 10:46:00  402.549     \n",
       "3 1330037 2017-05-30 01:02:59 2017-05-30 01:13:37  637.251     \n",
       "4  665458 2017-04-02 07:48:35 2017-04-02 08:19:03 1827.341     \n",
       "5 1481135 2017-06-10 08:36:28 2017-06-10 09:02:17 1549.427     \n",
       "6 1148202 2017-05-14 07:18:18 2017-05-14 07:24:56  398.000     \n",
       "  Start.Station                              \n",
       "1 14th & Belmont St NW                       \n",
       "2 Yuma St & Tenley Circle NW                 \n",
       "3 17th St & Massachusetts Ave NW             \n",
       "4 Constitution Ave & 2nd St NW/DOL           \n",
       "5 Henry Bacon Dr & Lincoln Memorial Circle NW\n",
       "6 1st & K St SE                              \n",
       "  End.Station                                         User.Type  Time month Day\n",
       "1 15th & K St NW                                      Subscriber 08   06    21 \n",
       "2 Connecticut Ave & Yuma St NW                        Subscriber 10   03    11 \n",
       "3 5th & K St NW                                       Subscriber 01   05    30 \n",
       "4 M St & Pennsylvania Ave NW                          Customer   07   04    02 \n",
       "5 Maine Ave & 7th St SW                               Subscriber 08   06    10 \n",
       "6 Eastern Market Metro / Pennsylvania Ave & 7th St SE Subscriber 07   05    14 "
      ]
     },
     "metadata": {},
     "output_type": "display_data"
    }
   ],
   "source": [
    "head(washington)"
   ]
  },
  {
   "cell_type": "markdown",
   "metadata": {},
   "source": [
    "## Question 1: Which city has the trips that last the most time? "
   ]
  },
  {
   "cell_type": "markdown",
   "metadata": {},
   "source": [
    "### Calculating the sum and the mean for the trip duration in each city"
   ]
  },
  {
   "cell_type": "code",
   "execution_count": 13,
   "metadata": {},
   "outputs": [
    {
     "data": {
      "text/html": [
       "269905248"
      ],
      "text/latex": [
       "269905248"
      ],
      "text/markdown": [
       "269905248"
      ],
      "text/plain": [
       "[1] 269905248"
      ]
     },
     "metadata": {},
     "output_type": "display_data"
    }
   ],
   "source": [
    "sum(nyc$Trip.Duration)"
   ]
  },
  {
   "cell_type": "code",
   "execution_count": 14,
   "metadata": {},
   "outputs": [
    {
     "data": {
      "text/html": [
       "280871787"
      ],
      "text/latex": [
       "280871787"
      ],
      "text/markdown": [
       "280871787"
      ],
      "text/plain": [
       "[1] 280871787"
      ]
     },
     "metadata": {},
     "output_type": "display_data"
    }
   ],
   "source": [
    "sum(chicago$Trip.Duration)"
   ]
  },
  {
   "cell_type": "code",
   "execution_count": 15,
   "metadata": {},
   "outputs": [
    {
     "data": {
      "text/html": [
       "371183985.484"
      ],
      "text/latex": [
       "371183985.484"
      ],
      "text/markdown": [
       "371183985.484"
      ],
      "text/plain": [
       "[1] 371183985"
      ]
     },
     "metadata": {},
     "output_type": "display_data"
    }
   ],
   "source": [
    "sum(washington$Trip.Duration)"
   ]
  },
  {
   "cell_type": "code",
   "execution_count": 16,
   "metadata": {},
   "outputs": [
    {
     "data": {
      "text/html": [
       "899.68416"
      ],
      "text/latex": [
       "899.68416"
      ],
      "text/markdown": [
       "899.68416"
      ],
      "text/plain": [
       "[1] 899.6842"
      ]
     },
     "metadata": {},
     "output_type": "display_data"
    }
   ],
   "source": [
    "mean(nyc$Trip.Duration)"
   ]
  },
  {
   "cell_type": "code",
   "execution_count": 17,
   "metadata": {},
   "outputs": [
    {
     "data": {
      "text/html": [
       "936.23929"
      ],
      "text/latex": [
       "936.23929"
      ],
      "text/markdown": [
       "936.23929"
      ],
      "text/plain": [
       "[1] 936.2393"
      ]
     },
     "metadata": {},
     "output_type": "display_data"
    }
   ],
   "source": [
    "mean(chicago$Trip.Duration)"
   ]
  },
  {
   "cell_type": "code",
   "execution_count": 18,
   "metadata": {},
   "outputs": [
    {
     "data": {
      "text/html": [
       "1237.27995161333"
      ],
      "text/latex": [
       "1237.27995161333"
      ],
      "text/markdown": [
       "1237.27995161333"
      ],
      "text/plain": [
       "[1] 1237.28"
      ]
     },
     "metadata": {},
     "output_type": "display_data"
    }
   ],
   "source": [
    "mean(washington$Trip.Duration)"
   ]
  },
  {
   "cell_type": "markdown",
   "metadata": {},
   "source": [
    "## Answer:\n",
    "##### We can observe that Washington leads in both mean and sum duration for trips by almost (x1.5) the value for the other two cities for mean and sum of trip time, mean while NYC comes last.\n",
    "##### The urban lifestyele in NYC makes it less bikes friendly environment, and Chicago maybe the rate of crimes affect a little bit but this may be understood better with survays"
   ]
  },
  {
   "cell_type": "markdown",
   "metadata": {},
   "source": [
    "## Adding ggplot library to environment"
   ]
  },
  {
   "cell_type": "code",
   "execution_count": 19,
   "metadata": {},
   "outputs": [
    {
     "name": "stderr",
     "output_type": "stream",
     "text": [
      "Registered S3 methods overwritten by 'ggplot2':\n",
      "  method         from \n",
      "  [.quosures     rlang\n",
      "  c.quosures     rlang\n",
      "  print.quosures rlang\n"
     ]
    }
   ],
   "source": [
    "library(ggplot2)"
   ]
  },
  {
   "cell_type": "markdown",
   "metadata": {},
   "source": [
    "## Question 2: What is the time and month that have the most number of trips?\n",
    "### Exploring Time of Travel for NYC"
   ]
  },
  {
   "cell_type": "code",
   "execution_count": 20,
   "metadata": {},
   "outputs": [
    {
     "name": "stderr",
     "output_type": "stream",
     "text": [
      "Warning message:\n",
      "\"Ignoring unknown parameters: binwidth, bins, pad\""
     ]
    },
    {
     "data": {
      "image/png": "[encoded data removed]",
      "text/plain": [
       "plot without title"
      ]
     },
     "metadata": {},
     "output_type": "display_data"
    }
   ],
   "source": [
    "ggplot(aes(x = month), data = nyc) +\n",
    "    geom_histogram(stat=\"count\") +\n",
    "    ggtitle('Trips for every month through the year')+\n",
    "    xlab('Month') +\n",
    "    ylab('Number of trips')"
   ]
  },
  {
   "cell_type": "code",
   "execution_count": 21,
   "metadata": {},
   "outputs": [
    {
     "name": "stderr",
     "output_type": "stream",
     "text": [
      "Warning message:\n",
      "\"Ignoring unknown parameters: binwidth, bins, pad\""
     ]
    },
    {
     "data": {
      "image/png": "[encoded data removed]",
      "text/plain": [
       "plot without title"
      ]
     },
     "metadata": {},
     "output_type": "display_data"
    }
   ],
   "source": [
    "ggplot(aes(x = Time), data = nyc) +\n",
    "    geom_histogram(stat=\"count\") +\n",
    "    ggtitle('Trips for every hour through the day')+\n",
    "    xlab('Hours') +\n",
    "    ylab('Number of trips')"
   ]
  },
  {
   "cell_type": "markdown",
   "metadata": {},
   "source": [
    "## Answer: (for NYC)\n",
    "#### As we can see, the number of trips increases while the year moves forward, the weather becomes warmer and the summer arrives.\n",
    "#### There are several peaks at 8 AM, 5 PM and 6 PM. They maybe happenning as the students and some of the employees go to whether school or work by bikes. This is predictable for students, but the employees behavior may have several causes; the cost of public trasportation, one may be a atheletic. "
   ]
  },
  {
   "cell_type": "markdown",
   "metadata": {},
   "source": [
    "## Exploring time for Chicago"
   ]
  },
  {
   "cell_type": "code",
   "execution_count": 22,
   "metadata": {},
   "outputs": [
    {
     "name": "stderr",
     "output_type": "stream",
     "text": [
      "Warning message:\n",
      "\"Ignoring unknown parameters: binwidth, bins, pad\""
     ]
    },
    {
     "data": {
      "image/png": "[encoded data removed]",
      "text/plain": [
       "plot without title"
      ]
     },
     "metadata": {},
     "output_type": "display_data"
    }
   ],
   "source": [
    "ggplot(aes(x = month), data = chicago) +\n",
    "    geom_histogram(stat=\"count\") +\n",
    "    ggtitle('Trips for every month through the year')+\n",
    "    xlab('Month') +\n",
    "    ylab('Number of trips')"
   ]
  },
  {
   "cell_type": "code",
   "execution_count": 23,
   "metadata": {},
   "outputs": [
    {
     "name": "stderr",
     "output_type": "stream",
     "text": [
      "Warning message:\n",
      "\"Ignoring unknown parameters: binwidth, bins, pad\""
     ]
    },
    {
     "data": {
      "image/png": "[encoded data removed]",
      "text/plain": [
       "plot without title"
      ]
     },
     "metadata": {},
     "output_type": "display_data"
    }
   ],
   "source": [
    "ggplot(aes(x = Time), data = nyc) +\n",
    "    geom_histogram(stat=\"count\") +\n",
    "    ggtitle('Trips for every hour through the day')+\n",
    "    xlab('Hours') +\n",
    "    ylab('Number of trips')"
   ]
  },
  {
   "cell_type": "markdown",
   "metadata": {},
   "source": [
    "## Answer: (for Chicago)\n",
    "\n",
    "### The behavior of users is very similar to their peers in NYC, which is no surprise, and won't be when appears again for Whasignton residents."
   ]
  },
  {
   "cell_type": "markdown",
   "metadata": {},
   "source": [
    "## Exploring time for Washington"
   ]
  },
  {
   "cell_type": "code",
   "execution_count": 24,
   "metadata": {},
   "outputs": [
    {
     "name": "stderr",
     "output_type": "stream",
     "text": [
      "Warning message:\n",
      "\"Ignoring unknown parameters: binwidth, bins, pad\""
     ]
    },
    {
     "data": {
      "image/png": "[encoded data removed]",
      "text/plain": [
       "plot without title"
      ]
     },
     "metadata": {},
     "output_type": "display_data"
    }
   ],
   "source": [
    "ggplot(aes(x = month), data = washington) +\n",
    "    geom_histogram(stat=\"count\") +\n",
    "    ggtitle('Trips for every month through the year')+\n",
    "    xlab('Month') +\n",
    "    ylab('Number of trips')"
   ]
  },
  {
   "cell_type": "code",
   "execution_count": 25,
   "metadata": {},
   "outputs": [
    {
     "name": "stderr",
     "output_type": "stream",
     "text": [
      "Warning message:\n",
      "\"Ignoring unknown parameters: binwidth, bins, pad\""
     ]
    },
    {
     "data": {
      "image/png": "[encoded data removed]",
      "text/plain": [
       "plot without title"
      ]
     },
     "metadata": {},
     "output_type": "display_data"
    }
   ],
   "source": [
    "ggplot(aes(x = Time), data = washington) +\n",
    "    geom_histogram(stat=\"count\") +\n",
    "    ggtitle('Trips for every hour through the day')+\n",
    "    xlab('Hours') +\n",
    "    ylab('Number of trips')"
   ]
  },
  {
   "cell_type": "markdown",
   "metadata": {},
   "source": [
    "## Answer: (for Washington)\n",
    "\n",
    "### This is a little awkward and unexpected. People in Washington are active in early hours of the day, but in monthly basis, they are doing as expected."
   ]
  },
  {
   "cell_type": "markdown",
   "metadata": {},
   "source": [
    "## Question 3: What is the most popular age and gender for bikers?\n",
    "## Exploring user info"
   ]
  },
  {
   "cell_type": "markdown",
   "metadata": {},
   "source": [
    "#### Counts for each user type for each city"
   ]
  },
  {
   "cell_type": "code",
   "execution_count": 26,
   "metadata": {},
   "outputs": [
    {
     "data": {
      "text/plain": [
       "\n",
       "             Customer Subscriber \n",
       "       692      30159     269149 "
      ]
     },
     "metadata": {},
     "output_type": "display_data"
    }
   ],
   "source": [
    "## for nyc\n",
    "table(nyc$User.Type)"
   ]
  },
  {
   "cell_type": "code",
   "execution_count": 27,
   "metadata": {},
   "outputs": [
    {
     "data": {
      "text/plain": [
       "\n",
       "  Customer  Dependent Subscriber \n",
       "     61110          1     238889 "
      ]
     },
     "metadata": {},
     "output_type": "display_data"
    }
   ],
   "source": [
    "## for chicago\n",
    "table(chicago$User.Type)"
   ]
  },
  {
   "cell_type": "code",
   "execution_count": 28,
   "metadata": {},
   "outputs": [
    {
     "data": {
      "text/plain": [
       "\n",
       "  Customer Subscriber \n",
       "     79214     220786 "
      ]
     },
     "metadata": {},
     "output_type": "display_data"
    }
   ],
   "source": [
    "## for washington\n",
    "table(washington$User.Type)"
   ]
  },
  {
   "cell_type": "markdown",
   "metadata": {},
   "source": [
    "## Answer:\n",
    "#### For each city the customer is about 10-20% of bikers.\n",
    "#### As we observe, subscribers who already have the habit of riding bikes tend to do it more often than customers who may be just in a picnic or something like that."
   ]
  },
  {
   "cell_type": "markdown",
   "metadata": {},
   "source": [
    "### Studying gender and year of birth"
   ]
  },
  {
   "cell_type": "code",
   "execution_count": 35,
   "metadata": {},
   "outputs": [
    {
     "name": "stderr",
     "output_type": "stream",
     "text": [
      "Warning message:\n",
      "\"Removed 28220 rows containing non-finite values (stat_bin).\""
     ]
    },
    {
     "ename": "ERROR",
     "evalue": "Error in xlab(\"Number of years using Facebook\") + ylab(\"Number of users in sample\"): non-numeric argument to binary operator\n",
     "output_type": "error",
     "traceback": [
      "Error in xlab(\"Number of years using Facebook\") + ylab(\"Number of users in sample\"): non-numeric argument to binary operator\nTraceback:\n"
     ]
    },
    {
     "data": {
      "image/png": "[encoded data removed]",
      "text/plain": [
       "plot without title"
      ]
     },
     "metadata": {},
     "output_type": "display_data"
    }
   ],
   "source": [
    "###qplot(x = , Birth.Year, data = nyc, binwidth= 0.25) + \n",
    "###    scale_x_continuous(limits=c(1950,2010), breaks = seq(1950,2010,5))+\n",
    "###    main('People born for each year in NYC')+\n",
    "###    ylab('No. of people')\n",
    "\n",
    "ggplot(aes(x = Birth.Year), data = nyc) +\n",
    "    geom_histogram(binwidth = .25, color = 'black', fill = '#F79420') +\n",
    "    ggtitle('People born for each year in NYC')\n",
    "    xlab('year') +\n",
    "    ylab('No. of people')"
   ]
  },
  {
   "cell_type": "code",
   "execution_count": 36,
   "metadata": {},
   "outputs": [
    {
     "data": {
      "text/plain": [
       "   Min. 1st Qu.  Median    Mean 3rd Qu.    Max.    NA's \n",
       "   1885    1970    1981    1978    1988    2001   28220 "
      ]
     },
     "metadata": {},
     "output_type": "display_data"
    }
   ],
   "source": [
    "summary(nyc$Birth.Year)"
   ]
  },
  {
   "cell_type": "code",
   "execution_count": 37,
   "metadata": {},
   "outputs": [
    {
     "data": {
      "text/plain": [
       "\n",
       "       Female   Male \n",
       " 29209  66783 204008 "
      ]
     },
     "metadata": {},
     "output_type": "display_data"
    }
   ],
   "source": [
    "table(nyc$Gender)"
   ]
  },
  {
   "cell_type": "markdown",
   "metadata": {},
   "source": [
    "## Answer: (for NYC)\n",
    "#### For New yorkers, male ride bikes more often than women. Women is only about a third of the male bikers\n",
    "#### Total number of bikers : male : female = 4:3:1\n",
    "#### No child born after 2001 ride any bike, and the more ofter bikers are the 80s born children, who are in their 30s now"
   ]
  },
  {
   "cell_type": "code",
   "execution_count": 38,
   "metadata": {},
   "outputs": [
    {
     "name": "stderr",
     "output_type": "stream",
     "text": [
      "Warning message:\n",
      "\"Removed 61019 rows containing non-finite values (stat_bin).\""
     ]
    },
    {
     "ename": "ERROR",
     "evalue": "Error in xlab(\"year\") + ylab(\"No. of people\"): non-numeric argument to binary operator\n",
     "output_type": "error",
     "traceback": [
      "Error in xlab(\"year\") + ylab(\"No. of people\"): non-numeric argument to binary operator\nTraceback:\n"
     ]
    },
    {
     "data": {
      "image/png": "[encoded data removed]",
      "text/plain": [
       "plot without title"
      ]
     },
     "metadata": {},
     "output_type": "display_data"
    }
   ],
   "source": [
    "###qplot(x = , Birth.Year, data = chicago, binwidth= 0.25) + \n",
    "###    scale_x_continuous(limits=c(1950,2010), breaks = seq(1950,2010,5))+\n",
    "###    main('people born for each year in Chicago')\n",
    "###    ylab('No. of people')\n",
    "\n",
    "ggplot(aes(x = Birth.Year), data = chicago) +\n",
    "    geom_histogram(binwidth = .25, color = 'black', fill = '#F79420') +\n",
    "    ggtitle('People born for each year in chicago')\n",
    "    xlab('year') +\n",
    "    ylab('No. of people')"
   ]
  },
  {
   "cell_type": "code",
   "execution_count": 39,
   "metadata": {},
   "outputs": [
    {
     "data": {
      "text/plain": [
       "   Min. 1st Qu.  Median    Mean 3rd Qu.    Max.    NA's \n",
       "   1899    1975    1984    1981    1989    2016   61019 "
      ]
     },
     "metadata": {},
     "output_type": "display_data"
    }
   ],
   "source": [
    "summary(chicago$Birth.Year)"
   ]
  },
  {
   "cell_type": "code",
   "execution_count": 40,
   "metadata": {},
   "outputs": [
    {
     "data": {
      "text/plain": [
       "\n",
       "       Female   Male \n",
       " 29209  66783 204008 "
      ]
     },
     "metadata": {},
     "output_type": "display_data"
    }
   ],
   "source": [
    "table(nyc$Gender)"
   ]
  },
  {
   "cell_type": "markdown",
   "metadata": {},
   "source": [
    "## Answer: (for chicago)\n",
    "#### For Chicago residents, male ride bikes more often than women, just the same as NYC. The propotion is 4:3:1\n",
    "#### No child born after 2001 ride any bike like NYC but a toddler born in 2016, and the more ofter bikers are the late 80s born children, who are in their  early 30s now."
   ]
  },
  {
   "cell_type": "markdown",
   "metadata": {},
   "source": [
    "## Question 4: What's the most common start and end station in NYC?"
   ]
  },
  {
   "cell_type": "code",
   "execution_count": 53,
   "metadata": {},
   "outputs": [],
   "source": [
    "Popular.station= function(column){\n",
    "    return(as.data.frame(table(column)))\n",
    "}"
   ]
  },
  {
   "cell_type": "code",
   "execution_count": 58,
   "metadata": {},
   "outputs": [
    {
     "data": {
      "text/html": [
       "<table>\n",
       "<thead><tr><th scope=col>column</th><th scope=col>Freq</th></tr></thead>\n",
       "<tbody>\n",
       "\t<tr><td><span style=white-space:pre-wrap>1 Ave &amp; E 16 St           </span></td><td>1274                                                                  </td></tr>\n",
       "\t<tr><td><span style=white-space:pre-wrap>1 Ave &amp; E 18 St           </span></td><td> 969                                                                  </td></tr>\n",
       "\t<tr><td><span style=white-space:pre-wrap>1 Ave &amp; E 30 St           </span></td><td> 898                                                                  </td></tr>\n",
       "\t<tr><td><span style=white-space:pre-wrap>1 Ave &amp; E 44 St           </span></td><td> 582                                                                  </td></tr>\n",
       "\t<tr><td><span style=white-space:pre-wrap>1 Ave &amp; E 62 St           </span></td><td> 760                                                                  </td></tr>\n",
       "\t<tr><td><span style=white-space:pre-wrap>1 Ave &amp; E 68 St           </span></td><td>1145                                                                  </td></tr>\n",
       "\t<tr><td><span style=white-space:pre-wrap>1 Ave &amp; E 78 St           </span></td><td> 758                                                                  </td></tr>\n",
       "\t<tr><td><span style=white-space:pre-wrap>1 Ave &amp; E 94 St           </span></td><td> 220                                                                  </td></tr>\n",
       "\t<tr><td><span style=white-space:pre-wrap>1 Pl &amp; Clinton St         </span></td><td> 115                                                                  </td></tr>\n",
       "\t<tr><td>10 Hudson Yards           </td><td>  52                      </td></tr>\n",
       "\t<tr><td><span style=white-space:pre-wrap>10 St &amp; 5 Ave             </span></td><td> 117                                                                  </td></tr>\n",
       "\t<tr><td><span style=white-space:pre-wrap>10 St &amp; 7 Ave             </span></td><td> 163                                                                  </td></tr>\n",
       "\t<tr><td><span style=white-space:pre-wrap>11 Ave &amp; W 27 St          </span></td><td>1018                                                                  </td></tr>\n",
       "\t<tr><td><span style=white-space:pre-wrap>11 Ave &amp; W 41 St          </span></td><td> 846                                                                  </td></tr>\n",
       "\t<tr><td><span style=white-space:pre-wrap>11 Ave &amp; W 59 St          </span></td><td> 802                                                                  </td></tr>\n",
       "\t<tr><td><span style=white-space:pre-wrap>12 Ave &amp; W 40 St          </span></td><td>1489                                                                  </td></tr>\n",
       "\t<tr><td><span style=white-space:pre-wrap>12 St &amp; 4 Ave             </span></td><td><span style=white-space:pre-wrap>  64</span>                          </td></tr>\n",
       "\t<tr><td><span style=white-space:pre-wrap>14 St &amp; 5 Ave             </span></td><td> 192                                                                  </td></tr>\n",
       "\t<tr><td><span style=white-space:pre-wrap>14 St &amp; 7 Ave             </span></td><td> 171                                                                  </td></tr>\n",
       "\t<tr><td><span style=white-space:pre-wrap>2 Ave  &amp; E 104 St         </span></td><td> 132                                                                  </td></tr>\n",
       "\t<tr><td><span style=white-space:pre-wrap>2 Ave &amp; 9 St              </span></td><td><span style=white-space:pre-wrap>  74</span>                          </td></tr>\n",
       "\t<tr><td><span style=white-space:pre-wrap>2 Ave &amp; E 31 St           </span></td><td> 773                                                                  </td></tr>\n",
       "\t<tr><td><span style=white-space:pre-wrap>2 Ave &amp; E 96 St           </span></td><td> 250                                                                  </td></tr>\n",
       "\t<tr><td><span style=white-space:pre-wrap>2 Ave &amp; E 99 St           </span></td><td><span style=white-space:pre-wrap>  86</span>                          </td></tr>\n",
       "\t<tr><td><span style=white-space:pre-wrap>21 St &amp; 41 Ave            </span></td><td><span style=white-space:pre-wrap>   5</span>                          </td></tr>\n",
       "\t<tr><td><span style=white-space:pre-wrap>21 St &amp; 43 Ave            </span></td><td><span style=white-space:pre-wrap>  44</span>                          </td></tr>\n",
       "\t<tr><td>21 St &amp; Queens Plaza North              </td><td><span style=white-space:pre-wrap>  84</span></td></tr>\n",
       "\t<tr><td><span style=white-space:pre-wrap>3 Ave &amp; 14 St             </span></td><td><span style=white-space:pre-wrap>  89</span>                          </td></tr>\n",
       "\t<tr><td><span style=white-space:pre-wrap>3 Ave &amp; E 100 St          </span></td><td><span style=white-space:pre-wrap>  41</span>                          </td></tr>\n",
       "\t<tr><td><span style=white-space:pre-wrap>3 Ave &amp; E 62 St           </span></td><td> 368                                                                  </td></tr>\n",
       "\t<tr><td>...</td><td>...</td></tr>\n",
       "\t<tr><td><span style=white-space:pre-wrap>W 89 St &amp; Columbus Ave         </span></td><td> 313                                                                       </td></tr>\n",
       "\t<tr><td><span style=white-space:pre-wrap>W 90 St &amp; Amsterdam Ave        </span></td><td> 215                                                                       </td></tr>\n",
       "\t<tr><td><span style=white-space:pre-wrap>W 92 St &amp; Broadway             </span></td><td> 340                                                                       </td></tr>\n",
       "\t<tr><td><span style=white-space:pre-wrap>W 95 St &amp; Broadway             </span></td><td> 405                                                                       </td></tr>\n",
       "\t<tr><td><span style=white-space:pre-wrap>W Broadway &amp; Spring St         </span></td><td> 916                                                                       </td></tr>\n",
       "\t<tr><td><span style=white-space:pre-wrap>Warren St &amp; Church St          </span></td><td> 559                                                                       </td></tr>\n",
       "\t<tr><td><span style=white-space:pre-wrap>Warren St &amp; Court St           </span></td><td> 228                                                                       </td></tr>\n",
       "\t<tr><td><span style=white-space:pre-wrap>Washington Ave &amp; Greene Ave    </span></td><td> 147                                                                       </td></tr>\n",
       "\t<tr><td><span style=white-space:pre-wrap>Washington Ave &amp; Park Ave      </span></td><td> 225                                                                       </td></tr>\n",
       "\t<tr><td>Washington Park                </td><td> 200                           </td></tr>\n",
       "\t<tr><td><span style=white-space:pre-wrap>Washington Pl &amp; 6 Ave          </span></td><td> 549                                                                       </td></tr>\n",
       "\t<tr><td><span style=white-space:pre-wrap>Washington Pl &amp; Broadway       </span></td><td> 783                                                                       </td></tr>\n",
       "\t<tr><td><span style=white-space:pre-wrap>Washington St &amp; Gansevoort St  </span></td><td> 645                                                                       </td></tr>\n",
       "\t<tr><td>Water - Whitehall Plaza        </td><td> 335                           </td></tr>\n",
       "\t<tr><td><span style=white-space:pre-wrap>Watts St &amp; Greenwich St        </span></td><td> 636                                                                       </td></tr>\n",
       "\t<tr><td>West Drive &amp; Prospect Park West</td><td> 390                               </td></tr>\n",
       "\t<tr><td><span style=white-space:pre-wrap>West End Ave &amp; W 107 St        </span></td><td> 160                                                                       </td></tr>\n",
       "\t<tr><td><span style=white-space:pre-wrap>West End Ave &amp; W 94 St         </span></td><td> 258                                                                       </td></tr>\n",
       "\t<tr><td><span style=white-space:pre-wrap>West St &amp; Chambers St          </span></td><td>1968                                                                       </td></tr>\n",
       "\t<tr><td>West Thames St                 </td><td> 702                           </td></tr>\n",
       "\t<tr><td><span style=white-space:pre-wrap>William St &amp; Pine St           </span></td><td> 369                                                                       </td></tr>\n",
       "\t<tr><td><span style=white-space:pre-wrap>Willoughby Ave &amp; Hall St       </span></td><td> 293                                                                       </td></tr>\n",
       "\t<tr><td><span style=white-space:pre-wrap>Willoughby Ave &amp; Tompkins Ave  </span></td><td><span style=white-space:pre-wrap>  74</span>                               </td></tr>\n",
       "\t<tr><td><span style=white-space:pre-wrap>Willoughby Ave &amp; Walworth St   </span></td><td> 104                                                                       </td></tr>\n",
       "\t<tr><td><span style=white-space:pre-wrap>Willoughby St &amp; Fleet St       </span></td><td> 395                                                                       </td></tr>\n",
       "\t<tr><td><span style=white-space:pre-wrap>Wolcott St &amp; Dwight St         </span></td><td><span style=white-space:pre-wrap>  33</span>                               </td></tr>\n",
       "\t<tr><td><span style=white-space:pre-wrap>Wyckoff St &amp; 3 Ave             </span></td><td> 155                                                                       </td></tr>\n",
       "\t<tr><td><span style=white-space:pre-wrap>Wythe Ave &amp; Metropolitan Ave   </span></td><td> 549                                                                       </td></tr>\n",
       "\t<tr><td>Yankee Ferry Terminal          </td><td> 105                           </td></tr>\n",
       "\t<tr><td><span style=white-space:pre-wrap>York St &amp; Jay St               </span></td><td> 590                                                                       </td></tr>\n",
       "</tbody>\n",
       "</table>\n"
      ],
      "text/latex": [
       "\\begin{tabular}{r|ll}\n",
       " column & Freq\\\\\n",
       "\\hline\n",
       "\t 1 Ave \\& E 16 St            & 1274                        \\\\\n",
       "\t 1 Ave \\& E 18 St            &  969                        \\\\\n",
       "\t 1 Ave \\& E 30 St            &  898                        \\\\\n",
       "\t 1 Ave \\& E 44 St            &  582                        \\\\\n",
       "\t 1 Ave \\& E 62 St            &  760                        \\\\\n",
       "\t 1 Ave \\& E 68 St            & 1145                        \\\\\n",
       "\t 1 Ave \\& E 78 St            &  758                        \\\\\n",
       "\t 1 Ave \\& E 94 St            &  220                        \\\\\n",
       "\t 1 Pl \\& Clinton St          &  115                        \\\\\n",
       "\t 10 Hudson Yards            &   52                      \\\\\n",
       "\t 10 St \\& 5 Ave              &  117                        \\\\\n",
       "\t 10 St \\& 7 Ave              &  163                        \\\\\n",
       "\t 11 Ave \\& W 27 St           & 1018                        \\\\\n",
       "\t 11 Ave \\& W 41 St           &  846                        \\\\\n",
       "\t 11 Ave \\& W 59 St           &  802                        \\\\\n",
       "\t 12 Ave \\& W 40 St           & 1489                        \\\\\n",
       "\t 12 St \\& 4 Ave              &   64                        \\\\\n",
       "\t 14 St \\& 5 Ave              &  192                        \\\\\n",
       "\t 14 St \\& 7 Ave              &  171                        \\\\\n",
       "\t 2 Ave  \\& E 104 St          &  132                        \\\\\n",
       "\t 2 Ave \\& 9 St               &   74                        \\\\\n",
       "\t 2 Ave \\& E 31 St            &  773                        \\\\\n",
       "\t 2 Ave \\& E 96 St            &  250                        \\\\\n",
       "\t 2 Ave \\& E 99 St            &   86                        \\\\\n",
       "\t 21 St \\& 41 Ave             &    5                        \\\\\n",
       "\t 21 St \\& 43 Ave             &   44                        \\\\\n",
       "\t 21 St \\& Queens Plaza North &   84                        \\\\\n",
       "\t 3 Ave \\& 14 St              &   89                        \\\\\n",
       "\t 3 Ave \\& E 100 St           &   41                        \\\\\n",
       "\t 3 Ave \\& E 62 St            &  368                        \\\\\n",
       "\t ... & ...\\\\\n",
       "\t W 89 St \\& Columbus Ave          &  313                             \\\\\n",
       "\t W 90 St \\& Amsterdam Ave         &  215                             \\\\\n",
       "\t W 92 St \\& Broadway              &  340                             \\\\\n",
       "\t W 95 St \\& Broadway              &  405                             \\\\\n",
       "\t W Broadway \\& Spring St          &  916                             \\\\\n",
       "\t Warren St \\& Church St           &  559                             \\\\\n",
       "\t Warren St \\& Court St            &  228                             \\\\\n",
       "\t Washington Ave \\& Greene Ave     &  147                             \\\\\n",
       "\t Washington Ave \\& Park Ave       &  225                             \\\\\n",
       "\t Washington Park                 &  200                           \\\\\n",
       "\t Washington Pl \\& 6 Ave           &  549                             \\\\\n",
       "\t Washington Pl \\& Broadway        &  783                             \\\\\n",
       "\t Washington St \\& Gansevoort St   &  645                             \\\\\n",
       "\t Water - Whitehall Plaza         &  335                           \\\\\n",
       "\t Watts St \\& Greenwich St         &  636                             \\\\\n",
       "\t West Drive \\& Prospect Park West &  390                             \\\\\n",
       "\t West End Ave \\& W 107 St         &  160                             \\\\\n",
       "\t West End Ave \\& W 94 St          &  258                             \\\\\n",
       "\t West St \\& Chambers St           & 1968                             \\\\\n",
       "\t West Thames St                  &  702                           \\\\\n",
       "\t William St \\& Pine St            &  369                             \\\\\n",
       "\t Willoughby Ave \\& Hall St        &  293                             \\\\\n",
       "\t Willoughby Ave \\& Tompkins Ave   &   74                             \\\\\n",
       "\t Willoughby Ave \\& Walworth St    &  104                             \\\\\n",
       "\t Willoughby St \\& Fleet St        &  395                             \\\\\n",
       "\t Wolcott St \\& Dwight St          &   33                             \\\\\n",
       "\t Wyckoff St \\& 3 Ave              &  155                             \\\\\n",
       "\t Wythe Ave \\& Metropolitan Ave    &  549                             \\\\\n",
       "\t Yankee Ferry Terminal           &  105                           \\\\\n",
       "\t York St \\& Jay St                &  590                             \\\\\n",
       "\\end{tabular}\n"
      ],
      "text/markdown": [
       "\n",
       "| column | Freq |\n",
       "|---|---|\n",
       "| 1 Ave & E 16 St            | 1274                       |\n",
       "| 1 Ave & E 18 St            |  969                       |\n",
       "| 1 Ave & E 30 St            |  898                       |\n",
       "| 1 Ave & E 44 St            |  582                       |\n",
       "| 1 Ave & E 62 St            |  760                       |\n",
       "| 1 Ave & E 68 St            | 1145                       |\n",
       "| 1 Ave & E 78 St            |  758                       |\n",
       "| 1 Ave & E 94 St            |  220                       |\n",
       "| 1 Pl & Clinton St          |  115                       |\n",
       "| 10 Hudson Yards            |   52                       |\n",
       "| 10 St & 5 Ave              |  117                       |\n",
       "| 10 St & 7 Ave              |  163                       |\n",
       "| 11 Ave & W 27 St           | 1018                       |\n",
       "| 11 Ave & W 41 St           |  846                       |\n",
       "| 11 Ave & W 59 St           |  802                       |\n",
       "| 12 Ave & W 40 St           | 1489                       |\n",
       "| 12 St & 4 Ave              |   64                       |\n",
       "| 14 St & 5 Ave              |  192                       |\n",
       "| 14 St & 7 Ave              |  171                       |\n",
       "| 2 Ave  & E 104 St          |  132                       |\n",
       "| 2 Ave & 9 St               |   74                       |\n",
       "| 2 Ave & E 31 St            |  773                       |\n",
       "| 2 Ave & E 96 St            |  250                       |\n",
       "| 2 Ave & E 99 St            |   86                       |\n",
       "| 21 St & 41 Ave             |    5                       |\n",
       "| 21 St & 43 Ave             |   44                       |\n",
       "| 21 St & Queens Plaza North |   84                       |\n",
       "| 3 Ave & 14 St              |   89                       |\n",
       "| 3 Ave & E 100 St           |   41                       |\n",
       "| 3 Ave & E 62 St            |  368                       |\n",
       "| ... | ... |\n",
       "| W 89 St & Columbus Ave          |  313                            |\n",
       "| W 90 St & Amsterdam Ave         |  215                            |\n",
       "| W 92 St & Broadway              |  340                            |\n",
       "| W 95 St & Broadway              |  405                            |\n",
       "| W Broadway & Spring St          |  916                            |\n",
       "| Warren St & Church St           |  559                            |\n",
       "| Warren St & Court St            |  228                            |\n",
       "| Washington Ave & Greene Ave     |  147                            |\n",
       "| Washington Ave & Park Ave       |  225                            |\n",
       "| Washington Park                 |  200                            |\n",
       "| Washington Pl & 6 Ave           |  549                            |\n",
       "| Washington Pl & Broadway        |  783                            |\n",
       "| Washington St & Gansevoort St   |  645                            |\n",
       "| Water - Whitehall Plaza         |  335                            |\n",
       "| Watts St & Greenwich St         |  636                            |\n",
       "| West Drive & Prospect Park West |  390                            |\n",
       "| West End Ave & W 107 St         |  160                            |\n",
       "| West End Ave & W 94 St          |  258                            |\n",
       "| West St & Chambers St           | 1968                            |\n",
       "| West Thames St                  |  702                            |\n",
       "| William St & Pine St            |  369                            |\n",
       "| Willoughby Ave & Hall St        |  293                            |\n",
       "| Willoughby Ave & Tompkins Ave   |   74                            |\n",
       "| Willoughby Ave & Walworth St    |  104                            |\n",
       "| Willoughby St & Fleet St        |  395                            |\n",
       "| Wolcott St & Dwight St          |   33                            |\n",
       "| Wyckoff St & 3 Ave              |  155                            |\n",
       "| Wythe Ave & Metropolitan Ave    |  549                            |\n",
       "| Yankee Ferry Terminal           |  105                            |\n",
       "| York St & Jay St                |  590                            |\n",
       "\n"
      ],
      "text/plain": [
       "    column                          Freq\n",
       "1   1 Ave & E 16 St                 1274\n",
       "2   1 Ave & E 18 St                  969\n",
       "3   1 Ave & E 30 St                  898\n",
       "4   1 Ave & E 44 St                  582\n",
       "5   1 Ave & E 62 St                  760\n",
       "6   1 Ave & E 68 St                 1145\n",
       "7   1 Ave & E 78 St                  758\n",
       "8   1 Ave & E 94 St                  220\n",
       "9   1 Pl & Clinton St                115\n",
       "10  10 Hudson Yards                   52\n",
       "11  10 St & 5 Ave                    117\n",
       "12  10 St & 7 Ave                    163\n",
       "13  11 Ave & W 27 St                1018\n",
       "14  11 Ave & W 41 St                 846\n",
       "15  11 Ave & W 59 St                 802\n",
       "16  12 Ave & W 40 St                1489\n",
       "17  12 St & 4 Ave                     64\n",
       "18  14 St & 5 Ave                    192\n",
       "19  14 St & 7 Ave                    171\n",
       "20  2 Ave  & E 104 St                132\n",
       "21  2 Ave & 9 St                      74\n",
       "22  2 Ave & E 31 St                  773\n",
       "23  2 Ave & E 96 St                  250\n",
       "24  2 Ave & E 99 St                   86\n",
       "25  21 St & 41 Ave                     5\n",
       "26  21 St & 43 Ave                    44\n",
       "27  21 St & Queens Plaza North        84\n",
       "28  3 Ave & 14 St                     89\n",
       "29  3 Ave & E 100 St                  41\n",
       "30  3 Ave & E 62 St                  368\n",
       "... ...                             ... \n",
       "614 W 89 St & Columbus Ave           313\n",
       "615 W 90 St & Amsterdam Ave          215\n",
       "616 W 92 St & Broadway               340\n",
       "617 W 95 St & Broadway               405\n",
       "618 W Broadway & Spring St           916\n",
       "619 Warren St & Church St            559\n",
       "620 Warren St & Court St             228\n",
       "621 Washington Ave & Greene Ave      147\n",
       "622 Washington Ave & Park Ave        225\n",
       "623 Washington Park                  200\n",
       "624 Washington Pl & 6 Ave            549\n",
       "625 Washington Pl & Broadway         783\n",
       "626 Washington St & Gansevoort St    645\n",
       "627 Water - Whitehall Plaza          335\n",
       "628 Watts St & Greenwich St          636\n",
       "629 West Drive & Prospect Park West  390\n",
       "630 West End Ave & W 107 St          160\n",
       "631 West End Ave & W 94 St           258\n",
       "632 West St & Chambers St           1968\n",
       "633 West Thames St                   702\n",
       "634 William St & Pine St             369\n",
       "635 Willoughby Ave & Hall St         293\n",
       "636 Willoughby Ave & Tompkins Ave     74\n",
       "637 Willoughby Ave & Walworth St     104\n",
       "638 Willoughby St & Fleet St         395\n",
       "639 Wolcott St & Dwight St            33\n",
       "640 Wyckoff St & 3 Ave               155\n",
       "641 Wythe Ave & Metropolitan Ave     549\n",
       "642 Yankee Ferry Terminal            105\n",
       "643 York St & Jay St                 590"
      ]
     },
     "metadata": {},
     "output_type": "display_data"
    }
   ],
   "source": [
    "Popular.station(nyc$Start.Station)"
   ]
  },
  {
   "cell_type": "code",
   "execution_count": 59,
   "metadata": {},
   "outputs": [
    {
     "data": {
      "text/html": [
       "<table>\n",
       "<thead><tr><th scope=col>column</th><th scope=col>Freq</th></tr></thead>\n",
       "<tbody>\n",
       "\t<tr><td><span style=white-space:pre-wrap>1 Ave &amp; E 16 St           </span></td><td>1266                                                                  </td></tr>\n",
       "\t<tr><td><span style=white-space:pre-wrap>1 Ave &amp; E 18 St           </span></td><td> 923                                                                  </td></tr>\n",
       "\t<tr><td><span style=white-space:pre-wrap>1 Ave &amp; E 30 St           </span></td><td> 895                                                                  </td></tr>\n",
       "\t<tr><td><span style=white-space:pre-wrap>1 Ave &amp; E 44 St           </span></td><td> 609                                                                  </td></tr>\n",
       "\t<tr><td><span style=white-space:pre-wrap>1 Ave &amp; E 62 St           </span></td><td> 684                                                                  </td></tr>\n",
       "\t<tr><td><span style=white-space:pre-wrap>1 Ave &amp; E 68 St           </span></td><td>1110                                                                  </td></tr>\n",
       "\t<tr><td><span style=white-space:pre-wrap>1 Ave &amp; E 78 St           </span></td><td> 701                                                                  </td></tr>\n",
       "\t<tr><td><span style=white-space:pre-wrap>1 Ave &amp; E 94 St           </span></td><td> 216                                                                  </td></tr>\n",
       "\t<tr><td><span style=white-space:pre-wrap>1 Pl &amp; Clinton St         </span></td><td> 117                                                                  </td></tr>\n",
       "\t<tr><td>10 Hudson Yards           </td><td>  32                      </td></tr>\n",
       "\t<tr><td><span style=white-space:pre-wrap>10 St &amp; 5 Ave             </span></td><td><span style=white-space:pre-wrap>  79</span>                          </td></tr>\n",
       "\t<tr><td><span style=white-space:pre-wrap>10 St &amp; 7 Ave             </span></td><td> 143                                                                  </td></tr>\n",
       "\t<tr><td><span style=white-space:pre-wrap>11 Ave &amp; W 27 St          </span></td><td>1021                                                                  </td></tr>\n",
       "\t<tr><td><span style=white-space:pre-wrap>11 Ave &amp; W 41 St          </span></td><td> 912                                                                  </td></tr>\n",
       "\t<tr><td><span style=white-space:pre-wrap>11 Ave &amp; W 59 St          </span></td><td> 774                                                                  </td></tr>\n",
       "\t<tr><td><span style=white-space:pre-wrap>12 Ave &amp; W 40 St          </span></td><td>1602                                                                  </td></tr>\n",
       "\t<tr><td><span style=white-space:pre-wrap>12 St &amp; 4 Ave             </span></td><td><span style=white-space:pre-wrap>  68</span>                          </td></tr>\n",
       "\t<tr><td><span style=white-space:pre-wrap>14 St &amp; 5 Ave             </span></td><td> 159                                                                  </td></tr>\n",
       "\t<tr><td><span style=white-space:pre-wrap>14 St &amp; 7 Ave             </span></td><td> 160                                                                  </td></tr>\n",
       "\t<tr><td><span style=white-space:pre-wrap>2 Ave  &amp; E 104 St         </span></td><td> 142                                                                  </td></tr>\n",
       "\t<tr><td><span style=white-space:pre-wrap>2 Ave &amp; 9 St              </span></td><td><span style=white-space:pre-wrap>  90</span>                          </td></tr>\n",
       "\t<tr><td><span style=white-space:pre-wrap>2 Ave &amp; E 31 St           </span></td><td> 772                                                                  </td></tr>\n",
       "\t<tr><td><span style=white-space:pre-wrap>2 Ave &amp; E 96 St           </span></td><td> 277                                                                  </td></tr>\n",
       "\t<tr><td><span style=white-space:pre-wrap>2 Ave &amp; E 99 St           </span></td><td><span style=white-space:pre-wrap>  99</span>                          </td></tr>\n",
       "\t<tr><td><span style=white-space:pre-wrap>21 St &amp; 41 Ave            </span></td><td><span style=white-space:pre-wrap>  10</span>                          </td></tr>\n",
       "\t<tr><td><span style=white-space:pre-wrap>21 St &amp; 43 Ave            </span></td><td><span style=white-space:pre-wrap>  51</span>                          </td></tr>\n",
       "\t<tr><td>21 St &amp; Queens Plaza North              </td><td><span style=white-space:pre-wrap>  68</span></td></tr>\n",
       "\t<tr><td><span style=white-space:pre-wrap>3 Ave &amp; 14 St             </span></td><td><span style=white-space:pre-wrap>  95</span>                          </td></tr>\n",
       "\t<tr><td><span style=white-space:pre-wrap>3 Ave &amp; E 100 St          </span></td><td><span style=white-space:pre-wrap>  53</span>                          </td></tr>\n",
       "\t<tr><td><span style=white-space:pre-wrap>3 Ave &amp; E 62 St           </span></td><td> 357                                                                  </td></tr>\n",
       "\t<tr><td>...</td><td>...</td></tr>\n",
       "\t<tr><td><span style=white-space:pre-wrap>W 89 St &amp; Columbus Ave         </span></td><td> 271                                                                       </td></tr>\n",
       "\t<tr><td><span style=white-space:pre-wrap>W 90 St &amp; Amsterdam Ave        </span></td><td> 222                                                                       </td></tr>\n",
       "\t<tr><td><span style=white-space:pre-wrap>W 92 St &amp; Broadway             </span></td><td> 293                                                                       </td></tr>\n",
       "\t<tr><td><span style=white-space:pre-wrap>W 95 St &amp; Broadway             </span></td><td> 381                                                                       </td></tr>\n",
       "\t<tr><td><span style=white-space:pre-wrap>W Broadway &amp; Spring St         </span></td><td> 994                                                                       </td></tr>\n",
       "\t<tr><td><span style=white-space:pre-wrap>Warren St &amp; Church St          </span></td><td> 513                                                                       </td></tr>\n",
       "\t<tr><td><span style=white-space:pre-wrap>Warren St &amp; Court St           </span></td><td> 214                                                                       </td></tr>\n",
       "\t<tr><td><span style=white-space:pre-wrap>Washington Ave &amp; Greene Ave    </span></td><td> 141                                                                       </td></tr>\n",
       "\t<tr><td><span style=white-space:pre-wrap>Washington Ave &amp; Park Ave      </span></td><td> 249                                                                       </td></tr>\n",
       "\t<tr><td>Washington Park                </td><td> 172                           </td></tr>\n",
       "\t<tr><td><span style=white-space:pre-wrap>Washington Pl &amp; 6 Ave          </span></td><td> 539                                                                       </td></tr>\n",
       "\t<tr><td><span style=white-space:pre-wrap>Washington Pl &amp; Broadway       </span></td><td> 825                                                                       </td></tr>\n",
       "\t<tr><td><span style=white-space:pre-wrap>Washington St &amp; Gansevoort St  </span></td><td> 662                                                                       </td></tr>\n",
       "\t<tr><td>Water - Whitehall Plaza        </td><td> 363                           </td></tr>\n",
       "\t<tr><td><span style=white-space:pre-wrap>Watts St &amp; Greenwich St        </span></td><td> 647                                                                       </td></tr>\n",
       "\t<tr><td>West Drive &amp; Prospect Park West</td><td> 382                               </td></tr>\n",
       "\t<tr><td><span style=white-space:pre-wrap>West End Ave &amp; W 107 St        </span></td><td> 150                                                                       </td></tr>\n",
       "\t<tr><td><span style=white-space:pre-wrap>West End Ave &amp; W 94 St         </span></td><td> 280                                                                       </td></tr>\n",
       "\t<tr><td><span style=white-space:pre-wrap>West St &amp; Chambers St          </span></td><td>1968                                                                       </td></tr>\n",
       "\t<tr><td>West Thames St                 </td><td> 707                           </td></tr>\n",
       "\t<tr><td><span style=white-space:pre-wrap>William St &amp; Pine St           </span></td><td> 372                                                                       </td></tr>\n",
       "\t<tr><td><span style=white-space:pre-wrap>Willoughby Ave &amp; Hall St       </span></td><td> 286                                                                       </td></tr>\n",
       "\t<tr><td><span style=white-space:pre-wrap>Willoughby Ave &amp; Tompkins Ave  </span></td><td><span style=white-space:pre-wrap>  87</span>                               </td></tr>\n",
       "\t<tr><td><span style=white-space:pre-wrap>Willoughby Ave &amp; Walworth St   </span></td><td> 111                                                                       </td></tr>\n",
       "\t<tr><td><span style=white-space:pre-wrap>Willoughby St &amp; Fleet St       </span></td><td> 327                                                                       </td></tr>\n",
       "\t<tr><td><span style=white-space:pre-wrap>Wolcott St &amp; Dwight St         </span></td><td><span style=white-space:pre-wrap>  28</span>                               </td></tr>\n",
       "\t<tr><td><span style=white-space:pre-wrap>Wyckoff St &amp; 3 Ave             </span></td><td> 116                                                                       </td></tr>\n",
       "\t<tr><td><span style=white-space:pre-wrap>Wythe Ave &amp; Metropolitan Ave   </span></td><td> 610                                                                       </td></tr>\n",
       "\t<tr><td>Yankee Ferry Terminal          </td><td>  99                           </td></tr>\n",
       "\t<tr><td><span style=white-space:pre-wrap>York St &amp; Jay St               </span></td><td> 654                                                                       </td></tr>\n",
       "</tbody>\n",
       "</table>\n"
      ],
      "text/latex": [
       "\\begin{tabular}{r|ll}\n",
       " column & Freq\\\\\n",
       "\\hline\n",
       "\t 1 Ave \\& E 16 St            & 1266                        \\\\\n",
       "\t 1 Ave \\& E 18 St            &  923                        \\\\\n",
       "\t 1 Ave \\& E 30 St            &  895                        \\\\\n",
       "\t 1 Ave \\& E 44 St            &  609                        \\\\\n",
       "\t 1 Ave \\& E 62 St            &  684                        \\\\\n",
       "\t 1 Ave \\& E 68 St            & 1110                        \\\\\n",
       "\t 1 Ave \\& E 78 St            &  701                        \\\\\n",
       "\t 1 Ave \\& E 94 St            &  216                        \\\\\n",
       "\t 1 Pl \\& Clinton St          &  117                        \\\\\n",
       "\t 10 Hudson Yards            &   32                      \\\\\n",
       "\t 10 St \\& 5 Ave              &   79                        \\\\\n",
       "\t 10 St \\& 7 Ave              &  143                        \\\\\n",
       "\t 11 Ave \\& W 27 St           & 1021                        \\\\\n",
       "\t 11 Ave \\& W 41 St           &  912                        \\\\\n",
       "\t 11 Ave \\& W 59 St           &  774                        \\\\\n",
       "\t 12 Ave \\& W 40 St           & 1602                        \\\\\n",
       "\t 12 St \\& 4 Ave              &   68                        \\\\\n",
       "\t 14 St \\& 5 Ave              &  159                        \\\\\n",
       "\t 14 St \\& 7 Ave              &  160                        \\\\\n",
       "\t 2 Ave  \\& E 104 St          &  142                        \\\\\n",
       "\t 2 Ave \\& 9 St               &   90                        \\\\\n",
       "\t 2 Ave \\& E 31 St            &  772                        \\\\\n",
       "\t 2 Ave \\& E 96 St            &  277                        \\\\\n",
       "\t 2 Ave \\& E 99 St            &   99                        \\\\\n",
       "\t 21 St \\& 41 Ave             &   10                        \\\\\n",
       "\t 21 St \\& 43 Ave             &   51                        \\\\\n",
       "\t 21 St \\& Queens Plaza North &   68                        \\\\\n",
       "\t 3 Ave \\& 14 St              &   95                        \\\\\n",
       "\t 3 Ave \\& E 100 St           &   53                        \\\\\n",
       "\t 3 Ave \\& E 62 St            &  357                        \\\\\n",
       "\t ... & ...\\\\\n",
       "\t W 89 St \\& Columbus Ave          &  271                             \\\\\n",
       "\t W 90 St \\& Amsterdam Ave         &  222                             \\\\\n",
       "\t W 92 St \\& Broadway              &  293                             \\\\\n",
       "\t W 95 St \\& Broadway              &  381                             \\\\\n",
       "\t W Broadway \\& Spring St          &  994                             \\\\\n",
       "\t Warren St \\& Church St           &  513                             \\\\\n",
       "\t Warren St \\& Court St            &  214                             \\\\\n",
       "\t Washington Ave \\& Greene Ave     &  141                             \\\\\n",
       "\t Washington Ave \\& Park Ave       &  249                             \\\\\n",
       "\t Washington Park                 &  172                           \\\\\n",
       "\t Washington Pl \\& 6 Ave           &  539                             \\\\\n",
       "\t Washington Pl \\& Broadway        &  825                             \\\\\n",
       "\t Washington St \\& Gansevoort St   &  662                             \\\\\n",
       "\t Water - Whitehall Plaza         &  363                           \\\\\n",
       "\t Watts St \\& Greenwich St         &  647                             \\\\\n",
       "\t West Drive \\& Prospect Park West &  382                             \\\\\n",
       "\t West End Ave \\& W 107 St         &  150                             \\\\\n",
       "\t West End Ave \\& W 94 St          &  280                             \\\\\n",
       "\t West St \\& Chambers St           & 1968                             \\\\\n",
       "\t West Thames St                  &  707                           \\\\\n",
       "\t William St \\& Pine St            &  372                             \\\\\n",
       "\t Willoughby Ave \\& Hall St        &  286                             \\\\\n",
       "\t Willoughby Ave \\& Tompkins Ave   &   87                             \\\\\n",
       "\t Willoughby Ave \\& Walworth St    &  111                             \\\\\n",
       "\t Willoughby St \\& Fleet St        &  327                             \\\\\n",
       "\t Wolcott St \\& Dwight St          &   28                             \\\\\n",
       "\t Wyckoff St \\& 3 Ave              &  116                             \\\\\n",
       "\t Wythe Ave \\& Metropolitan Ave    &  610                             \\\\\n",
       "\t Yankee Ferry Terminal           &   99                           \\\\\n",
       "\t York St \\& Jay St                &  654                             \\\\\n",
       "\\end{tabular}\n"
      ],
      "text/markdown": [
       "\n",
       "| column | Freq |\n",
       "|---|---|\n",
       "| 1 Ave & E 16 St            | 1266                       |\n",
       "| 1 Ave & E 18 St            |  923                       |\n",
       "| 1 Ave & E 30 St            |  895                       |\n",
       "| 1 Ave & E 44 St            |  609                       |\n",
       "| 1 Ave & E 62 St            |  684                       |\n",
       "| 1 Ave & E 68 St            | 1110                       |\n",
       "| 1 Ave & E 78 St            |  701                       |\n",
       "| 1 Ave & E 94 St            |  216                       |\n",
       "| 1 Pl & Clinton St          |  117                       |\n",
       "| 10 Hudson Yards            |   32                       |\n",
       "| 10 St & 5 Ave              |   79                       |\n",
       "| 10 St & 7 Ave              |  143                       |\n",
       "| 11 Ave & W 27 St           | 1021                       |\n",
       "| 11 Ave & W 41 St           |  912                       |\n",
       "| 11 Ave & W 59 St           |  774                       |\n",
       "| 12 Ave & W 40 St           | 1602                       |\n",
       "| 12 St & 4 Ave              |   68                       |\n",
       "| 14 St & 5 Ave              |  159                       |\n",
       "| 14 St & 7 Ave              |  160                       |\n",
       "| 2 Ave  & E 104 St          |  142                       |\n",
       "| 2 Ave & 9 St               |   90                       |\n",
       "| 2 Ave & E 31 St            |  772                       |\n",
       "| 2 Ave & E 96 St            |  277                       |\n",
       "| 2 Ave & E 99 St            |   99                       |\n",
       "| 21 St & 41 Ave             |   10                       |\n",
       "| 21 St & 43 Ave             |   51                       |\n",
       "| 21 St & Queens Plaza North |   68                       |\n",
       "| 3 Ave & 14 St              |   95                       |\n",
       "| 3 Ave & E 100 St           |   53                       |\n",
       "| 3 Ave & E 62 St            |  357                       |\n",
       "| ... | ... |\n",
       "| W 89 St & Columbus Ave          |  271                            |\n",
       "| W 90 St & Amsterdam Ave         |  222                            |\n",
       "| W 92 St & Broadway              |  293                            |\n",
       "| W 95 St & Broadway              |  381                            |\n",
       "| W Broadway & Spring St          |  994                            |\n",
       "| Warren St & Church St           |  513                            |\n",
       "| Warren St & Court St            |  214                            |\n",
       "| Washington Ave & Greene Ave     |  141                            |\n",
       "| Washington Ave & Park Ave       |  249                            |\n",
       "| Washington Park                 |  172                            |\n",
       "| Washington Pl & 6 Ave           |  539                            |\n",
       "| Washington Pl & Broadway        |  825                            |\n",
       "| Washington St & Gansevoort St   |  662                            |\n",
       "| Water - Whitehall Plaza         |  363                            |\n",
       "| Watts St & Greenwich St         |  647                            |\n",
       "| West Drive & Prospect Park West |  382                            |\n",
       "| West End Ave & W 107 St         |  150                            |\n",
       "| West End Ave & W 94 St          |  280                            |\n",
       "| West St & Chambers St           | 1968                            |\n",
       "| West Thames St                  |  707                            |\n",
       "| William St & Pine St            |  372                            |\n",
       "| Willoughby Ave & Hall St        |  286                            |\n",
       "| Willoughby Ave & Tompkins Ave   |   87                            |\n",
       "| Willoughby Ave & Walworth St    |  111                            |\n",
       "| Willoughby St & Fleet St        |  327                            |\n",
       "| Wolcott St & Dwight St          |   28                            |\n",
       "| Wyckoff St & 3 Ave              |  116                            |\n",
       "| Wythe Ave & Metropolitan Ave    |  610                            |\n",
       "| Yankee Ferry Terminal           |   99                            |\n",
       "| York St & Jay St                |  654                            |\n",
       "\n"
      ],
      "text/plain": [
       "    column                          Freq\n",
       "1   1 Ave & E 16 St                 1266\n",
       "2   1 Ave & E 18 St                  923\n",
       "3   1 Ave & E 30 St                  895\n",
       "4   1 Ave & E 44 St                  609\n",
       "5   1 Ave & E 62 St                  684\n",
       "6   1 Ave & E 68 St                 1110\n",
       "7   1 Ave & E 78 St                  701\n",
       "8   1 Ave & E 94 St                  216\n",
       "9   1 Pl & Clinton St                117\n",
       "10  10 Hudson Yards                   32\n",
       "11  10 St & 5 Ave                     79\n",
       "12  10 St & 7 Ave                    143\n",
       "13  11 Ave & W 27 St                1021\n",
       "14  11 Ave & W 41 St                 912\n",
       "15  11 Ave & W 59 St                 774\n",
       "16  12 Ave & W 40 St                1602\n",
       "17  12 St & 4 Ave                     68\n",
       "18  14 St & 5 Ave                    159\n",
       "19  14 St & 7 Ave                    160\n",
       "20  2 Ave  & E 104 St                142\n",
       "21  2 Ave & 9 St                      90\n",
       "22  2 Ave & E 31 St                  772\n",
       "23  2 Ave & E 96 St                  277\n",
       "24  2 Ave & E 99 St                   99\n",
       "25  21 St & 41 Ave                    10\n",
       "26  21 St & 43 Ave                    51\n",
       "27  21 St & Queens Plaza North        68\n",
       "28  3 Ave & 14 St                     95\n",
       "29  3 Ave & E 100 St                  53\n",
       "30  3 Ave & E 62 St                  357\n",
       "... ...                             ... \n",
       "617 W 89 St & Columbus Ave           271\n",
       "618 W 90 St & Amsterdam Ave          222\n",
       "619 W 92 St & Broadway               293\n",
       "620 W 95 St & Broadway               381\n",
       "621 W Broadway & Spring St           994\n",
       "622 Warren St & Church St            513\n",
       "623 Warren St & Court St             214\n",
       "624 Washington Ave & Greene Ave      141\n",
       "625 Washington Ave & Park Ave        249\n",
       "626 Washington Park                  172\n",
       "627 Washington Pl & 6 Ave            539\n",
       "628 Washington Pl & Broadway         825\n",
       "629 Washington St & Gansevoort St    662\n",
       "630 Water - Whitehall Plaza          363\n",
       "631 Watts St & Greenwich St          647\n",
       "632 West Drive & Prospect Park West  382\n",
       "633 West End Ave & W 107 St          150\n",
       "634 West End Ave & W 94 St           280\n",
       "635 West St & Chambers St           1968\n",
       "636 West Thames St                   707\n",
       "637 William St & Pine St             372\n",
       "638 Willoughby Ave & Hall St         286\n",
       "639 Willoughby Ave & Tompkins Ave     87\n",
       "640 Willoughby Ave & Walworth St     111\n",
       "641 Willoughby St & Fleet St         327\n",
       "642 Wolcott St & Dwight St            28\n",
       "643 Wyckoff St & 3 Ave               116\n",
       "644 Wythe Ave & Metropolitan Ave     610\n",
       "645 Yankee Ferry Terminal             99\n",
       "646 York St & Jay St                 654"
      ]
     },
     "metadata": {},
     "output_type": "display_data"
    }
   ],
   "source": [
    "Popular.station(nyc$End.Station)"
   ]
  },
  {
   "cell_type": "markdown",
   "metadata": {},
   "source": [
    "## Answer: \n",
    "#### As NYC has the most number of stations, studying its start and end station is vital.\n",
    "#### It can be observed that the most popular start station in NYC is West st. & Chambers st.\n",
    "#### Meanwhile, 1 Ave & E 16 st. is the most frequent end station for NYC bikers."
   ]
  },
  {
   "cell_type": "code",
   "execution_count": null,
   "metadata": {},
   "outputs": [],
   "source": []
  }
 ],
 "metadata": {
  "kernelspec": {
   "display_name": "R",
   "language": "R",
   "name": "ir"
  },
  "language_info": {
   "codemirror_mode": "r",
   "file_extension": ".r",
   "mimetype": "text/x-r-source",
   "name": "R",
   "pygments_lexer": "r",
   "version": "3.6.1"
  }
 },
 "nbformat": 4,
 "nbformat_minor": 4
}
